{
 "cells": [
  {
   "cell_type": "markdown",
   "metadata": {},
   "source": [
    "<img src=\"https://upload.wikimedia.org/wikipedia/commons/thumb/5/58/Uber_logo_2018.svg/1024px-Uber_logo_2018.svg.png\" alt=\"UBER LOGO\" width=\"50%\" />\n",
    "\n",
    "# UBER Pickups "
   ]
  },
  {
   "cell_type": "markdown",
   "metadata": {},
   "source": [
    "## Company's Description 📇\n",
    "\n",
    "<a href=\"http://uber.com/\" target=\"_blank\">Uber</a> is one of the most famous startup in the world. It started as a ride-sharing application for people who couldn't afford a taxi. Now, Uber expanded its activities to Food Delivery with <a href=\"https://www.ubereats.com/fr-en\" target=\"_blank\">Uber Eats</a>, package delivery, freight transportation and even urban transportation with <a href=\"https://www.uber.com/fr/en/ride/uber-bike/\" target=\"_blank\"> Jump Bike</a> and <a href=\"https://www.li.me/\" target=\"_blank\"> Lime </a> that the company funded. \n",
    "\n",
    "\n",
    "The company's goal is to revolutionize transportation accross the globe. It operates now on about 70 countries and 900 cities and generates over $14 billion revenue! 😮\n"
   ]
  },
  {
   "cell_type": "markdown",
   "metadata": {},
   "source": [
    "## Project 🚧\n",
    "\n",
    "One of the main pain point that Uber's team found is that sometimes drivers are not around when users need them. For example, a user might be in San Francisco's Financial District whereas Uber drivers are looking for customers in Castro.  \n",
    "\n",
    "(If you are not familiar with the bay area, check out <a href=\"https://www.google.com/maps/place/San+Francisco,+CA,+USA/@37.7515389,-122.4567213,13.43z/data=!4m5!3m4!1s0x80859a6d00690021:0x4a501367f076adff!8m2!3d37.7749295!4d-122.4194155\" target=\"_blank\">Google Maps</a>)\n",
    "\n",
    "Eventhough both neighborhood are not that far away, users would still have to wait 10 to 15 minutes before being picked-up, which is too long. Uber's research shows that users accept to wait 5-7 minutes, otherwise they would cancel their ride. \n",
    "\n",
    "Therefore, Uber's data team would like to work on a project where **their app would recommend hot-zones in major cities to be in at any given time of day.**  "
   ]
  },
  {
   "cell_type": "markdown",
   "metadata": {},
   "source": [
    "## Goals 🎯\n",
    "\n",
    "Uber already has data about pickups in major cities. Your objective is to create algorithms that will determine where are the hot-zones that drivers should be in. Therefore you will:\n",
    "\n",
    "* Create an algorithm to find hot zones \n",
    "* Visualize results on a nice dashboard "
   ]
  },
  {
   "cell_type": "markdown",
   "metadata": {},
   "source": [
    "## Scope of this project 🖼️\n",
    "\n",
    "To start off, Uber wants to try this feature in New York city. Therefore you will only focus on this city. Data can be found here: \n",
    "\n",
    "👉👉<a href=\"https://full-stack-bigdata-datasets.s3.eu-west-3.amazonaws.com/Machine+Learning+non+Supervis%C3%A9/Projects/uber-trip-data.zip\" target=\"_blank\"> Uber Trip Data</a> 👈👈\n",
    "\n",
    "**You only need to focus on New York City for this project**"
   ]
  },
  {
   "cell_type": "markdown",
   "metadata": {},
   "source": [
    "## Helpers 🦮\n",
    "\n",
    "To help you achieve this project, here are a few tips that should help you: \n",
    "\n",
    "### Clustering is your friend \n",
    "\n",
    "Clustering technics are a perfect fit for the job. Think about it, all the pickup locations can be gathered into different clusters. You can then use **cluster coordinates to pin hot zones** 😉\n",
    "    \n",
    "\n",
    "### Create maps with `plotly` \n",
    "\n",
    "Check out <a href=\"https://plotly.com/\" target=\"_blank\">Plotly</a> documentation, you can create maps and populate them easily. Obviously, there are other libraries but this one should do the job pretty well. \n",
    "\n",
    "\n",
    "### Start small grow big \n",
    "\n",
    "Eventhough Uber wants to have hot-zones per hour and per day of week, you should first **start small**. Pick one day at a given hour and **then start to generalize** your approach. "
   ]
  },
  {
   "cell_type": "markdown",
   "metadata": {},
   "source": [
    "## Deliverable 📬\n",
    "\n",
    "To complete this project, your team should: \n",
    "\n",
    "* Have a map with hot-zones using any python library (`plotly` or anything else). \n",
    "* You should **at least** describe hot-zones per day of week. \n",
    "* Compare results with **at least** two unsupervised algorithms like KMeans and DBScan. \n",
    "\n",
    "Your maps should look something like this: \n",
    "\n",
    "<img src=\"https://full-stack-assets.s3.eu-west-3.amazonaws.com/images/Clusters_uber_pickups.png\" alt=\"Uber Cluster Map\" />"
   ]
  },
  {
   "cell_type": "code",
   "execution_count": 1,
   "metadata": {},
   "outputs": [
    {
     "name": "stdout",
     "output_type": "stream",
     "text": [
      "Collecting plotly\n",
      "  Using cached plotly-5.3.1-py2.py3-none-any.whl (23.9 MB)\n",
      "Collecting tenacity>=6.2.0\n",
      "  Using cached tenacity-8.0.1-py3-none-any.whl (24 kB)\n",
      "Requirement already satisfied: six in /opt/conda/lib/python3.8/site-packages (from plotly) (1.15.0)\n",
      "Installing collected packages: tenacity, plotly\n",
      "Successfully installed plotly-5.3.1 tenacity-8.0.1\n"
     ]
    }
   ],
   "source": [
    "!pip install plotly"
   ]
  },
  {
   "cell_type": "code",
   "execution_count": 2,
   "metadata": {},
   "outputs": [],
   "source": [
    "import pandas as  pd\n",
    "import datetime as dt\n",
    "from datetime import time\n",
    "from sklearn.preprocessing import StandardScaler\n",
    "from sklearn.cluster import KMeans\n",
    "\n",
    "from sklearn.metrics import silhouette_score\n",
    "\n",
    "import plotly.express as px\n",
    "import plotly.io as pio\n",
    "pio.renderers.default = \"iframe_connected\""
   ]
  },
  {
   "cell_type": "code",
   "execution_count": 3,
   "metadata": {},
   "outputs": [
    {
     "data": {
      "text/plain": [
       "'/home/jovyan/FULL/6_UNSUPERVISED_Machine_Learning/7_PROJECTS_Unsupervised_Machine_Learning'"
      ]
     },
     "execution_count": 3,
     "metadata": {},
     "output_type": "execute_result"
    }
   ],
   "source": [
    "pwd"
   ]
  },
  {
   "cell_type": "code",
   "execution_count": 4,
   "metadata": {},
   "outputs": [],
   "source": [
    "# frames = [df1, df2, df3]\n",
    "# result = pd.concat(frames)\n",
    "\n",
    "df_1404 = pd.read_csv(\"/home/jovyan/FULL/6_UNSUPERVISED_Machine_Learning/7_PROJECTS_Unsupervised_Machine_Learning/uber_src/uber-raw-data-apr14.csv\")\n",
    "df_1405 = pd.read_csv(\"/home/jovyan/FULL/6_UNSUPERVISED_Machine_Learning/7_PROJECTS_Unsupervised_Machine_Learning/uber_src/uber-raw-data-may14.csv\")\n",
    "df_1406 = pd.read_csv(\"/home/jovyan/FULL/6_UNSUPERVISED_Machine_Learning/7_PROJECTS_Unsupervised_Machine_Learning/uber_src/uber-raw-data-jun14.csv\")\n",
    "df_1407 = pd.read_csv(\"/home/jovyan/FULL/6_UNSUPERVISED_Machine_Learning/7_PROJECTS_Unsupervised_Machine_Learning/uber_src/uber-raw-data-jul14.csv\")\n",
    "df_1408 = pd.read_csv(\"/home/jovyan/FULL/6_UNSUPERVISED_Machine_Learning/7_PROJECTS_Unsupervised_Machine_Learning/uber_src/uber-raw-data-aug14.csv\")\n",
    "df_1409 = pd.read_csv(\"/home/jovyan/FULL/6_UNSUPERVISED_Machine_Learning/7_PROJECTS_Unsupervised_Machine_Learning/uber_src/uber-raw-data-sep14.csv\")\n",
    "df_15 = pd.read_csv(\"/home/jovyan/FULL/6_UNSUPERVISED_Machine_Learning/7_PROJECTS_Unsupervised_Machine_Learning/uber_src/uber-raw-data-janjune-15.csv\")\n",
    "df_taxizone = pd.read_csv(\"/home/jovyan/FULL/6_UNSUPERVISED_Machine_Learning/7_PROJECTS_Unsupervised_Machine_Learning/uber_src/taxi-zone-lookup.csv\")\n"
   ]
  },
  {
   "cell_type": "markdown",
   "metadata": {},
   "source": [
    "## DF_taxizone description"
   ]
  },
  {
   "cell_type": "code",
   "execution_count": 5,
   "metadata": {},
   "outputs": [
    {
     "data": {
      "text/html": [
       "<div>\n",
       "<style scoped>\n",
       "    .dataframe tbody tr th:only-of-type {\n",
       "        vertical-align: middle;\n",
       "    }\n",
       "\n",
       "    .dataframe tbody tr th {\n",
       "        vertical-align: top;\n",
       "    }\n",
       "\n",
       "    .dataframe thead th {\n",
       "        text-align: right;\n",
       "    }\n",
       "</style>\n",
       "<table border=\"1\" class=\"dataframe\">\n",
       "  <thead>\n",
       "    <tr style=\"text-align: right;\">\n",
       "      <th></th>\n",
       "      <th>LocationID</th>\n",
       "      <th>Borough</th>\n",
       "      <th>Zone</th>\n",
       "    </tr>\n",
       "  </thead>\n",
       "  <tbody>\n",
       "    <tr>\n",
       "      <th>0</th>\n",
       "      <td>1</td>\n",
       "      <td>EWR</td>\n",
       "      <td>Newark Airport</td>\n",
       "    </tr>\n",
       "    <tr>\n",
       "      <th>1</th>\n",
       "      <td>2</td>\n",
       "      <td>Queens</td>\n",
       "      <td>Jamaica Bay</td>\n",
       "    </tr>\n",
       "    <tr>\n",
       "      <th>2</th>\n",
       "      <td>3</td>\n",
       "      <td>Bronx</td>\n",
       "      <td>Allerton/Pelham Gardens</td>\n",
       "    </tr>\n",
       "    <tr>\n",
       "      <th>3</th>\n",
       "      <td>4</td>\n",
       "      <td>Manhattan</td>\n",
       "      <td>Alphabet City</td>\n",
       "    </tr>\n",
       "    <tr>\n",
       "      <th>4</th>\n",
       "      <td>5</td>\n",
       "      <td>Staten Island</td>\n",
       "      <td>Arden Heights</td>\n",
       "    </tr>\n",
       "  </tbody>\n",
       "</table>\n",
       "</div>"
      ],
      "text/plain": [
       "   LocationID        Borough                     Zone\n",
       "0           1            EWR           Newark Airport\n",
       "1           2         Queens              Jamaica Bay\n",
       "2           3          Bronx  Allerton/Pelham Gardens\n",
       "3           4      Manhattan            Alphabet City\n",
       "4           5  Staten Island            Arden Heights"
      ]
     },
     "execution_count": 5,
     "metadata": {},
     "output_type": "execute_result"
    }
   ],
   "source": [
    "df_taxizone.head()"
   ]
  },
  {
   "cell_type": "code",
   "execution_count": 6,
   "metadata": {},
   "outputs": [
    {
     "data": {
      "text/plain": [
       "(265, 3)"
      ]
     },
     "execution_count": 6,
     "metadata": {},
     "output_type": "execute_result"
    }
   ],
   "source": [
    "df_taxizone.shape"
   ]
  },
  {
   "cell_type": "code",
   "execution_count": 7,
   "metadata": {},
   "outputs": [
    {
     "data": {
      "text/plain": [
       "LocationID  Borough    Zone                     \n",
       "265         Unknown    Unknown                      1\n",
       "83          Queens     Elmhurst/Maspeth             1\n",
       "97          Brooklyn   Fort Greene                  1\n",
       "96          Queens     Forest Park/Highland Park    1\n",
       "95          Queens     Forest Hills                 1\n",
       "                                                   ..\n",
       "171         Queens     Murray Hill-Queens           1\n",
       "170         Manhattan  Murray Hill                  1\n",
       "169         Bronx      Mount Hope                   1\n",
       "168         Bronx      Mott Haven/Port Morris       1\n",
       "1           EWR        Newark Airport               1\n",
       "Length: 265, dtype: int64"
      ]
     },
     "execution_count": 7,
     "metadata": {},
     "output_type": "execute_result"
    }
   ],
   "source": [
    "df_taxizone.value_counts()"
   ]
  },
  {
   "cell_type": "markdown",
   "metadata": {},
   "source": [
    "\n",
    "## DF_15 description\n"
   ]
  },
  {
   "cell_type": "code",
   "execution_count": 8,
   "metadata": {},
   "outputs": [
    {
     "data": {
      "text/html": [
       "<div>\n",
       "<style scoped>\n",
       "    .dataframe tbody tr th:only-of-type {\n",
       "        vertical-align: middle;\n",
       "    }\n",
       "\n",
       "    .dataframe tbody tr th {\n",
       "        vertical-align: top;\n",
       "    }\n",
       "\n",
       "    .dataframe thead th {\n",
       "        text-align: right;\n",
       "    }\n",
       "</style>\n",
       "<table border=\"1\" class=\"dataframe\">\n",
       "  <thead>\n",
       "    <tr style=\"text-align: right;\">\n",
       "      <th></th>\n",
       "      <th>Dispatching_base_num</th>\n",
       "      <th>Pickup_date</th>\n",
       "      <th>Affiliated_base_num</th>\n",
       "      <th>locationID</th>\n",
       "    </tr>\n",
       "  </thead>\n",
       "  <tbody>\n",
       "    <tr>\n",
       "      <th>0</th>\n",
       "      <td>B02617</td>\n",
       "      <td>2015-05-17 09:47:00</td>\n",
       "      <td>B02617</td>\n",
       "      <td>141</td>\n",
       "    </tr>\n",
       "    <tr>\n",
       "      <th>1</th>\n",
       "      <td>B02617</td>\n",
       "      <td>2015-05-17 09:47:00</td>\n",
       "      <td>B02617</td>\n",
       "      <td>65</td>\n",
       "    </tr>\n",
       "    <tr>\n",
       "      <th>2</th>\n",
       "      <td>B02617</td>\n",
       "      <td>2015-05-17 09:47:00</td>\n",
       "      <td>B02617</td>\n",
       "      <td>100</td>\n",
       "    </tr>\n",
       "    <tr>\n",
       "      <th>3</th>\n",
       "      <td>B02617</td>\n",
       "      <td>2015-05-17 09:47:00</td>\n",
       "      <td>B02774</td>\n",
       "      <td>80</td>\n",
       "    </tr>\n",
       "    <tr>\n",
       "      <th>4</th>\n",
       "      <td>B02617</td>\n",
       "      <td>2015-05-17 09:47:00</td>\n",
       "      <td>B02617</td>\n",
       "      <td>90</td>\n",
       "    </tr>\n",
       "  </tbody>\n",
       "</table>\n",
       "</div>"
      ],
      "text/plain": [
       "  Dispatching_base_num          Pickup_date Affiliated_base_num  locationID\n",
       "0               B02617  2015-05-17 09:47:00              B02617         141\n",
       "1               B02617  2015-05-17 09:47:00              B02617          65\n",
       "2               B02617  2015-05-17 09:47:00              B02617         100\n",
       "3               B02617  2015-05-17 09:47:00              B02774          80\n",
       "4               B02617  2015-05-17 09:47:00              B02617          90"
      ]
     },
     "execution_count": 8,
     "metadata": {},
     "output_type": "execute_result"
    }
   ],
   "source": [
    "df_15.head()"
   ]
  },
  {
   "cell_type": "code",
   "execution_count": 9,
   "metadata": {},
   "outputs": [
    {
     "data": {
      "text/plain": [
       "Dispatching_base_num    object\n",
       "Pickup_date             object\n",
       "Affiliated_base_num     object\n",
       "locationID               int64\n",
       "dtype: object"
      ]
     },
     "execution_count": 9,
     "metadata": {},
     "output_type": "execute_result"
    }
   ],
   "source": [
    "df_15.dtypes"
   ]
  },
  {
   "cell_type": "code",
   "execution_count": 10,
   "metadata": {},
   "outputs": [
    {
     "data": {
      "text/plain": [
       "(14270479, 4)"
      ]
     },
     "execution_count": 10,
     "metadata": {},
     "output_type": "execute_result"
    }
   ],
   "source": [
    "df_15.shape"
   ]
  },
  {
   "cell_type": "code",
   "execution_count": 11,
   "metadata": {},
   "outputs": [
    {
     "data": {
      "text/plain": [
       "Dispatching_base_num         0\n",
       "Pickup_date                  0\n",
       "Affiliated_base_num     162195\n",
       "locationID                   0\n",
       "dtype: int64"
      ]
     },
     "execution_count": 11,
     "metadata": {},
     "output_type": "execute_result"
    }
   ],
   "source": [
    "df_15.isna().sum()"
   ]
  },
  {
   "cell_type": "code",
   "execution_count": 12,
   "metadata": {},
   "outputs": [
    {
     "data": {
      "text/html": [
       "<div>\n",
       "<style scoped>\n",
       "    .dataframe tbody tr th:only-of-type {\n",
       "        vertical-align: middle;\n",
       "    }\n",
       "\n",
       "    .dataframe tbody tr th {\n",
       "        vertical-align: top;\n",
       "    }\n",
       "\n",
       "    .dataframe thead th {\n",
       "        text-align: right;\n",
       "    }\n",
       "</style>\n",
       "<table border=\"1\" class=\"dataframe\">\n",
       "  <thead>\n",
       "    <tr style=\"text-align: right;\">\n",
       "      <th></th>\n",
       "      <th>Dispatching_base_num</th>\n",
       "      <th>Pickup_date</th>\n",
       "      <th>Affiliated_base_num</th>\n",
       "      <th>locationID</th>\n",
       "    </tr>\n",
       "  </thead>\n",
       "  <tbody>\n",
       "    <tr>\n",
       "      <th>count</th>\n",
       "      <td>14270479</td>\n",
       "      <td>14270479</td>\n",
       "      <td>14108284</td>\n",
       "      <td>1.427048e+07</td>\n",
       "    </tr>\n",
       "    <tr>\n",
       "      <th>unique</th>\n",
       "      <td>8</td>\n",
       "      <td>2744783</td>\n",
       "      <td>284</td>\n",
       "      <td>NaN</td>\n",
       "    </tr>\n",
       "    <tr>\n",
       "      <th>top</th>\n",
       "      <td>B02764</td>\n",
       "      <td>2015-06-27 20:52:00</td>\n",
       "      <td>B02764</td>\n",
       "      <td>NaN</td>\n",
       "    </tr>\n",
       "    <tr>\n",
       "      <th>freq</th>\n",
       "      <td>5753653</td>\n",
       "      <td>213</td>\n",
       "      <td>4352321</td>\n",
       "      <td>NaN</td>\n",
       "    </tr>\n",
       "    <tr>\n",
       "      <th>mean</th>\n",
       "      <td>NaN</td>\n",
       "      <td>NaN</td>\n",
       "      <td>NaN</td>\n",
       "      <td>1.520574e+02</td>\n",
       "    </tr>\n",
       "    <tr>\n",
       "      <th>std</th>\n",
       "      <td>NaN</td>\n",
       "      <td>NaN</td>\n",
       "      <td>NaN</td>\n",
       "      <td>7.159620e+01</td>\n",
       "    </tr>\n",
       "    <tr>\n",
       "      <th>min</th>\n",
       "      <td>NaN</td>\n",
       "      <td>NaN</td>\n",
       "      <td>NaN</td>\n",
       "      <td>1.000000e+00</td>\n",
       "    </tr>\n",
       "    <tr>\n",
       "      <th>25%</th>\n",
       "      <td>NaN</td>\n",
       "      <td>NaN</td>\n",
       "      <td>NaN</td>\n",
       "      <td>9.200000e+01</td>\n",
       "    </tr>\n",
       "    <tr>\n",
       "      <th>50%</th>\n",
       "      <td>NaN</td>\n",
       "      <td>NaN</td>\n",
       "      <td>NaN</td>\n",
       "      <td>1.570000e+02</td>\n",
       "    </tr>\n",
       "    <tr>\n",
       "      <th>75%</th>\n",
       "      <td>NaN</td>\n",
       "      <td>NaN</td>\n",
       "      <td>NaN</td>\n",
       "      <td>2.300000e+02</td>\n",
       "    </tr>\n",
       "    <tr>\n",
       "      <th>max</th>\n",
       "      <td>NaN</td>\n",
       "      <td>NaN</td>\n",
       "      <td>NaN</td>\n",
       "      <td>2.650000e+02</td>\n",
       "    </tr>\n",
       "  </tbody>\n",
       "</table>\n",
       "</div>"
      ],
      "text/plain": [
       "       Dispatching_base_num          Pickup_date Affiliated_base_num  \\\n",
       "count              14270479             14270479            14108284   \n",
       "unique                    8              2744783                 284   \n",
       "top                  B02764  2015-06-27 20:52:00              B02764   \n",
       "freq                5753653                  213             4352321   \n",
       "mean                    NaN                  NaN                 NaN   \n",
       "std                     NaN                  NaN                 NaN   \n",
       "min                     NaN                  NaN                 NaN   \n",
       "25%                     NaN                  NaN                 NaN   \n",
       "50%                     NaN                  NaN                 NaN   \n",
       "75%                     NaN                  NaN                 NaN   \n",
       "max                     NaN                  NaN                 NaN   \n",
       "\n",
       "          locationID  \n",
       "count   1.427048e+07  \n",
       "unique           NaN  \n",
       "top              NaN  \n",
       "freq             NaN  \n",
       "mean    1.520574e+02  \n",
       "std     7.159620e+01  \n",
       "min     1.000000e+00  \n",
       "25%     9.200000e+01  \n",
       "50%     1.570000e+02  \n",
       "75%     2.300000e+02  \n",
       "max     2.650000e+02  "
      ]
     },
     "execution_count": 12,
     "metadata": {},
     "output_type": "execute_result"
    }
   ],
   "source": [
    "df_15.describe(include=\"all\")"
   ]
  },
  {
   "cell_type": "code",
   "execution_count": 13,
   "metadata": {},
   "outputs": [],
   "source": [
    "df_15[\"Pickup_date\"] = pd.to_datetime(df_15[\"Pickup_date\"])"
   ]
  },
  {
   "cell_type": "code",
   "execution_count": 14,
   "metadata": {},
   "outputs": [
    {
     "data": {
      "text/plain": [
       "Dispatching_base_num            object\n",
       "Pickup_date             datetime64[ns]\n",
       "Affiliated_base_num             object\n",
       "locationID                       int64\n",
       "dtype: object"
      ]
     },
     "execution_count": 14,
     "metadata": {},
     "output_type": "execute_result"
    }
   ],
   "source": [
    "df_15.dtypes"
   ]
  },
  {
   "cell_type": "markdown",
   "metadata": {},
   "source": [
    "## DF_14 description"
   ]
  },
  {
   "cell_type": "code",
   "execution_count": 15,
   "metadata": {},
   "outputs": [
    {
     "data": {
      "text/html": [
       "<div>\n",
       "<style scoped>\n",
       "    .dataframe tbody tr th:only-of-type {\n",
       "        vertical-align: middle;\n",
       "    }\n",
       "\n",
       "    .dataframe tbody tr th {\n",
       "        vertical-align: top;\n",
       "    }\n",
       "\n",
       "    .dataframe thead th {\n",
       "        text-align: right;\n",
       "    }\n",
       "</style>\n",
       "<table border=\"1\" class=\"dataframe\">\n",
       "  <thead>\n",
       "    <tr style=\"text-align: right;\">\n",
       "      <th></th>\n",
       "      <th>Date/Time</th>\n",
       "      <th>Lat</th>\n",
       "      <th>Lon</th>\n",
       "      <th>Base</th>\n",
       "    </tr>\n",
       "  </thead>\n",
       "  <tbody>\n",
       "    <tr>\n",
       "      <th>0</th>\n",
       "      <td>9/1/2014 0:01:00</td>\n",
       "      <td>40.2201</td>\n",
       "      <td>-74.0021</td>\n",
       "      <td>B02512</td>\n",
       "    </tr>\n",
       "    <tr>\n",
       "      <th>1</th>\n",
       "      <td>9/1/2014 0:01:00</td>\n",
       "      <td>40.7500</td>\n",
       "      <td>-74.0027</td>\n",
       "      <td>B02512</td>\n",
       "    </tr>\n",
       "    <tr>\n",
       "      <th>2</th>\n",
       "      <td>9/1/2014 0:03:00</td>\n",
       "      <td>40.7559</td>\n",
       "      <td>-73.9864</td>\n",
       "      <td>B02512</td>\n",
       "    </tr>\n",
       "    <tr>\n",
       "      <th>3</th>\n",
       "      <td>9/1/2014 0:06:00</td>\n",
       "      <td>40.7450</td>\n",
       "      <td>-73.9889</td>\n",
       "      <td>B02512</td>\n",
       "    </tr>\n",
       "    <tr>\n",
       "      <th>4</th>\n",
       "      <td>9/1/2014 0:11:00</td>\n",
       "      <td>40.8145</td>\n",
       "      <td>-73.9444</td>\n",
       "      <td>B02512</td>\n",
       "    </tr>\n",
       "  </tbody>\n",
       "</table>\n",
       "</div>"
      ],
      "text/plain": [
       "          Date/Time      Lat      Lon    Base\n",
       "0  9/1/2014 0:01:00  40.2201 -74.0021  B02512\n",
       "1  9/1/2014 0:01:00  40.7500 -74.0027  B02512\n",
       "2  9/1/2014 0:03:00  40.7559 -73.9864  B02512\n",
       "3  9/1/2014 0:06:00  40.7450 -73.9889  B02512\n",
       "4  9/1/2014 0:11:00  40.8145 -73.9444  B02512"
      ]
     },
     "execution_count": 15,
     "metadata": {},
     "output_type": "execute_result"
    }
   ],
   "source": [
    "df_1409.head()"
   ]
  },
  {
   "cell_type": "code",
   "execution_count": 16,
   "metadata": {},
   "outputs": [],
   "source": [
    "dfs = [df_1404, df_1405, df_1406, df_1407, df_1408, df_1409]\n",
    "\n",
    "df_14 = pd.concat(dfs)"
   ]
  },
  {
   "cell_type": "code",
   "execution_count": 17,
   "metadata": {},
   "outputs": [
    {
     "data": {
      "text/plain": [
       "(4534327, 4)"
      ]
     },
     "execution_count": 17,
     "metadata": {},
     "output_type": "execute_result"
    }
   ],
   "source": [
    "df_14.shape"
   ]
  },
  {
   "cell_type": "code",
   "execution_count": 18,
   "metadata": {},
   "outputs": [
    {
     "data": {
      "text/plain": [
       "Date/Time     object\n",
       "Lat          float64\n",
       "Lon          float64\n",
       "Base          object\n",
       "dtype: object"
      ]
     },
     "execution_count": 18,
     "metadata": {},
     "output_type": "execute_result"
    }
   ],
   "source": [
    "df_14.dtypes"
   ]
  },
  {
   "cell_type": "code",
   "execution_count": 19,
   "metadata": {},
   "outputs": [
    {
     "data": {
      "text/plain": [
       "Date/Time    0\n",
       "Lat          0\n",
       "Lon          0\n",
       "Base         0\n",
       "dtype: int64"
      ]
     },
     "execution_count": 19,
     "metadata": {},
     "output_type": "execute_result"
    }
   ],
   "source": [
    "df_14.isna().sum()"
   ]
  },
  {
   "cell_type": "code",
   "execution_count": 20,
   "metadata": {},
   "outputs": [],
   "source": [
    "df_14[\"Date/Time\"] = pd.to_datetime(df_14[\"Date/Time\"])"
   ]
  },
  {
   "cell_type": "code",
   "execution_count": 21,
   "metadata": {},
   "outputs": [
    {
     "data": {
      "text/plain": [
       "Date/Time    datetime64[ns]\n",
       "Lat                 float64\n",
       "Lon                 float64\n",
       "Base                 object\n",
       "dtype: object"
      ]
     },
     "execution_count": 21,
     "metadata": {},
     "output_type": "execute_result"
    }
   ],
   "source": [
    "df_14.dtypes"
   ]
  },
  {
   "cell_type": "code",
   "execution_count": 22,
   "metadata": {},
   "outputs": [
    {
     "data": {
      "text/plain": [
       "0   2014-04-01 00:11:00\n",
       "0   2014-05-01 00:02:00\n",
       "0   2014-06-01 00:00:00\n",
       "0   2014-07-01 00:03:00\n",
       "0   2014-08-01 00:03:00\n",
       "0   2014-09-01 00:01:00\n",
       "Name: Date/Time, dtype: datetime64[ns]"
      ]
     },
     "execution_count": 22,
     "metadata": {},
     "output_type": "execute_result"
    }
   ],
   "source": [
    "df_14[\"Date/Time\"].loc[0]"
   ]
  },
  {
   "cell_type": "code",
   "execution_count": 23,
   "metadata": {},
   "outputs": [
    {
     "data": {
      "text/plain": [
       "2015-06-27 20:52:00    213\n",
       "2015-06-27 22:19:00    213\n",
       "2015-06-27 21:36:00    210\n",
       "2015-06-27 22:14:00    207\n",
       "2015-06-27 19:43:00    204\n",
       "                      ... \n",
       "2015-02-11 23:49:03      1\n",
       "2015-02-05 20:00:10      1\n",
       "2015-01-30 22:18:22      1\n",
       "2015-01-30 11:20:25      1\n",
       "2015-01-11 22:52:51      1\n",
       "Name: Pickup_date, Length: 2744783, dtype: int64"
      ]
     },
     "execution_count": 23,
     "metadata": {},
     "output_type": "execute_result"
    }
   ],
   "source": [
    "df_15[\"Pickup_date\"].value_counts()"
   ]
  },
  {
   "cell_type": "code",
   "execution_count": 24,
   "metadata": {},
   "outputs": [
    {
     "data": {
      "text/html": [
       "<div>\n",
       "<style scoped>\n",
       "    .dataframe tbody tr th:only-of-type {\n",
       "        vertical-align: middle;\n",
       "    }\n",
       "\n",
       "    .dataframe tbody tr th {\n",
       "        vertical-align: top;\n",
       "    }\n",
       "\n",
       "    .dataframe thead th {\n",
       "        text-align: right;\n",
       "    }\n",
       "</style>\n",
       "<table border=\"1\" class=\"dataframe\">\n",
       "  <thead>\n",
       "    <tr style=\"text-align: right;\">\n",
       "      <th></th>\n",
       "      <th>Dispatching_base_num</th>\n",
       "      <th>Pickup_date</th>\n",
       "      <th>Affiliated_base_num</th>\n",
       "      <th>locationID</th>\n",
       "      <th>date</th>\n",
       "      <th>hour</th>\n",
       "    </tr>\n",
       "  </thead>\n",
       "  <tbody>\n",
       "    <tr>\n",
       "      <th>0</th>\n",
       "      <td>B02617</td>\n",
       "      <td>2015-05-17 09:47:00</td>\n",
       "      <td>B02617</td>\n",
       "      <td>141</td>\n",
       "      <td>2015-05-17</td>\n",
       "      <td>09:47:00</td>\n",
       "    </tr>\n",
       "    <tr>\n",
       "      <th>1</th>\n",
       "      <td>B02617</td>\n",
       "      <td>2015-05-17 09:47:00</td>\n",
       "      <td>B02617</td>\n",
       "      <td>65</td>\n",
       "      <td>2015-05-17</td>\n",
       "      <td>09:47:00</td>\n",
       "    </tr>\n",
       "    <tr>\n",
       "      <th>2</th>\n",
       "      <td>B02617</td>\n",
       "      <td>2015-05-17 09:47:00</td>\n",
       "      <td>B02617</td>\n",
       "      <td>100</td>\n",
       "      <td>2015-05-17</td>\n",
       "      <td>09:47:00</td>\n",
       "    </tr>\n",
       "    <tr>\n",
       "      <th>3</th>\n",
       "      <td>B02617</td>\n",
       "      <td>2015-05-17 09:47:00</td>\n",
       "      <td>B02774</td>\n",
       "      <td>80</td>\n",
       "      <td>2015-05-17</td>\n",
       "      <td>09:47:00</td>\n",
       "    </tr>\n",
       "    <tr>\n",
       "      <th>4</th>\n",
       "      <td>B02617</td>\n",
       "      <td>2015-05-17 09:47:00</td>\n",
       "      <td>B02617</td>\n",
       "      <td>90</td>\n",
       "      <td>2015-05-17</td>\n",
       "      <td>09:47:00</td>\n",
       "    </tr>\n",
       "    <tr>\n",
       "      <th>...</th>\n",
       "      <td>...</td>\n",
       "      <td>...</td>\n",
       "      <td>...</td>\n",
       "      <td>...</td>\n",
       "      <td>...</td>\n",
       "      <td>...</td>\n",
       "    </tr>\n",
       "    <tr>\n",
       "      <th>14270474</th>\n",
       "      <td>B02765</td>\n",
       "      <td>2015-05-08 15:43:00</td>\n",
       "      <td>B02765</td>\n",
       "      <td>186</td>\n",
       "      <td>2015-05-08</td>\n",
       "      <td>15:43:00</td>\n",
       "    </tr>\n",
       "    <tr>\n",
       "      <th>14270475</th>\n",
       "      <td>B02765</td>\n",
       "      <td>2015-05-08 15:43:00</td>\n",
       "      <td>B02765</td>\n",
       "      <td>263</td>\n",
       "      <td>2015-05-08</td>\n",
       "      <td>15:43:00</td>\n",
       "    </tr>\n",
       "    <tr>\n",
       "      <th>14270476</th>\n",
       "      <td>B02765</td>\n",
       "      <td>2015-05-08 15:43:00</td>\n",
       "      <td>B02765</td>\n",
       "      <td>90</td>\n",
       "      <td>2015-05-08</td>\n",
       "      <td>15:43:00</td>\n",
       "    </tr>\n",
       "    <tr>\n",
       "      <th>14270477</th>\n",
       "      <td>B02765</td>\n",
       "      <td>2015-05-08 15:44:00</td>\n",
       "      <td>B01899</td>\n",
       "      <td>45</td>\n",
       "      <td>2015-05-08</td>\n",
       "      <td>15:44:00</td>\n",
       "    </tr>\n",
       "    <tr>\n",
       "      <th>14270478</th>\n",
       "      <td>B02765</td>\n",
       "      <td>2015-05-08 15:44:00</td>\n",
       "      <td>B02682</td>\n",
       "      <td>144</td>\n",
       "      <td>2015-05-08</td>\n",
       "      <td>15:44:00</td>\n",
       "    </tr>\n",
       "  </tbody>\n",
       "</table>\n",
       "<p>14270479 rows × 6 columns</p>\n",
       "</div>"
      ],
      "text/plain": [
       "         Dispatching_base_num         Pickup_date Affiliated_base_num  \\\n",
       "0                      B02617 2015-05-17 09:47:00              B02617   \n",
       "1                      B02617 2015-05-17 09:47:00              B02617   \n",
       "2                      B02617 2015-05-17 09:47:00              B02617   \n",
       "3                      B02617 2015-05-17 09:47:00              B02774   \n",
       "4                      B02617 2015-05-17 09:47:00              B02617   \n",
       "...                       ...                 ...                 ...   \n",
       "14270474               B02765 2015-05-08 15:43:00              B02765   \n",
       "14270475               B02765 2015-05-08 15:43:00              B02765   \n",
       "14270476               B02765 2015-05-08 15:43:00              B02765   \n",
       "14270477               B02765 2015-05-08 15:44:00              B01899   \n",
       "14270478               B02765 2015-05-08 15:44:00              B02682   \n",
       "\n",
       "          locationID        date      hour  \n",
       "0                141  2015-05-17  09:47:00  \n",
       "1                 65  2015-05-17  09:47:00  \n",
       "2                100  2015-05-17  09:47:00  \n",
       "3                 80  2015-05-17  09:47:00  \n",
       "4                 90  2015-05-17  09:47:00  \n",
       "...              ...         ...       ...  \n",
       "14270474         186  2015-05-08  15:43:00  \n",
       "14270475         263  2015-05-08  15:43:00  \n",
       "14270476          90  2015-05-08  15:43:00  \n",
       "14270477          45  2015-05-08  15:44:00  \n",
       "14270478         144  2015-05-08  15:44:00  \n",
       "\n",
       "[14270479 rows x 6 columns]"
      ]
     },
     "execution_count": 24,
     "metadata": {},
     "output_type": "execute_result"
    }
   ],
   "source": [
    "df_15[\"date\"] = df_15[\"Pickup_date\"].dt.date\n",
    "df_15[\"hour\"] = df_15[\"Pickup_date\"].dt.time\n",
    "df_15"
   ]
  },
  {
   "cell_type": "markdown",
   "metadata": {},
   "source": [
    "## Date selection"
   ]
  },
  {
   "cell_type": "code",
   "execution_count": 25,
   "metadata": {},
   "outputs": [],
   "source": [
    "df_15[\"date\"] = pd.to_datetime(df_15[\"date\"]) # converrting to be able to select specific date and match project advise selecting 1 specific before extrapolating"
   ]
  },
  {
   "cell_type": "code",
   "execution_count": 26,
   "metadata": {},
   "outputs": [
    {
     "name": "stdout",
     "output_type": "stream",
     "text": [
      "<class 'pandas.core.frame.DataFrame'>\n",
      "RangeIndex: 14270479 entries, 0 to 14270478\n",
      "Data columns (total 6 columns):\n",
      " #   Column                Dtype         \n",
      "---  ------                -----         \n",
      " 0   Dispatching_base_num  object        \n",
      " 1   Pickup_date           datetime64[ns]\n",
      " 2   Affiliated_base_num   object        \n",
      " 3   locationID            int64         \n",
      " 4   date                  datetime64[ns]\n",
      " 5   hour                  object        \n",
      "dtypes: datetime64[ns](2), int64(1), object(3)\n",
      "memory usage: 653.3+ MB\n"
     ]
    }
   ],
   "source": [
    "df_15.info()"
   ]
  },
  {
   "cell_type": "code",
   "execution_count": 27,
   "metadata": {},
   "outputs": [
    {
     "data": {
      "text/html": [
       "<div>\n",
       "<style scoped>\n",
       "    .dataframe tbody tr th:only-of-type {\n",
       "        vertical-align: middle;\n",
       "    }\n",
       "\n",
       "    .dataframe tbody tr th {\n",
       "        vertical-align: top;\n",
       "    }\n",
       "\n",
       "    .dataframe thead th {\n",
       "        text-align: right;\n",
       "    }\n",
       "</style>\n",
       "<table border=\"1\" class=\"dataframe\">\n",
       "  <thead>\n",
       "    <tr style=\"text-align: right;\">\n",
       "      <th></th>\n",
       "      <th>Dispatching_base_num</th>\n",
       "      <th>Pickup_date</th>\n",
       "      <th>Affiliated_base_num</th>\n",
       "      <th>locationID</th>\n",
       "      <th>date</th>\n",
       "      <th>hour</th>\n",
       "    </tr>\n",
       "  </thead>\n",
       "  <tbody>\n",
       "    <tr>\n",
       "      <th>0</th>\n",
       "      <td>B02617</td>\n",
       "      <td>2015-05-17 09:47:00</td>\n",
       "      <td>B02617</td>\n",
       "      <td>141</td>\n",
       "      <td>2015-05-17</td>\n",
       "      <td>09:47:00</td>\n",
       "    </tr>\n",
       "    <tr>\n",
       "      <th>1</th>\n",
       "      <td>B02617</td>\n",
       "      <td>2015-05-17 09:47:00</td>\n",
       "      <td>B02617</td>\n",
       "      <td>65</td>\n",
       "      <td>2015-05-17</td>\n",
       "      <td>09:47:00</td>\n",
       "    </tr>\n",
       "    <tr>\n",
       "      <th>2</th>\n",
       "      <td>B02617</td>\n",
       "      <td>2015-05-17 09:47:00</td>\n",
       "      <td>B02617</td>\n",
       "      <td>100</td>\n",
       "      <td>2015-05-17</td>\n",
       "      <td>09:47:00</td>\n",
       "    </tr>\n",
       "    <tr>\n",
       "      <th>3</th>\n",
       "      <td>B02617</td>\n",
       "      <td>2015-05-17 09:47:00</td>\n",
       "      <td>B02774</td>\n",
       "      <td>80</td>\n",
       "      <td>2015-05-17</td>\n",
       "      <td>09:47:00</td>\n",
       "    </tr>\n",
       "    <tr>\n",
       "      <th>4</th>\n",
       "      <td>B02617</td>\n",
       "      <td>2015-05-17 09:47:00</td>\n",
       "      <td>B02617</td>\n",
       "      <td>90</td>\n",
       "      <td>2015-05-17</td>\n",
       "      <td>09:47:00</td>\n",
       "    </tr>\n",
       "    <tr>\n",
       "      <th>...</th>\n",
       "      <td>...</td>\n",
       "      <td>...</td>\n",
       "      <td>...</td>\n",
       "      <td>...</td>\n",
       "      <td>...</td>\n",
       "      <td>...</td>\n",
       "    </tr>\n",
       "    <tr>\n",
       "      <th>12501259</th>\n",
       "      <td>B02765</td>\n",
       "      <td>2015-05-17 19:46:00</td>\n",
       "      <td>B02765</td>\n",
       "      <td>192</td>\n",
       "      <td>2015-05-17</td>\n",
       "      <td>19:46:00</td>\n",
       "    </tr>\n",
       "    <tr>\n",
       "      <th>12501260</th>\n",
       "      <td>B02765</td>\n",
       "      <td>2015-05-17 19:46:00</td>\n",
       "      <td>B02765</td>\n",
       "      <td>164</td>\n",
       "      <td>2015-05-17</td>\n",
       "      <td>19:46:00</td>\n",
       "    </tr>\n",
       "    <tr>\n",
       "      <th>12501261</th>\n",
       "      <td>B02765</td>\n",
       "      <td>2015-05-17 19:46:00</td>\n",
       "      <td>B02765</td>\n",
       "      <td>100</td>\n",
       "      <td>2015-05-17</td>\n",
       "      <td>19:46:00</td>\n",
       "    </tr>\n",
       "    <tr>\n",
       "      <th>12501262</th>\n",
       "      <td>B02765</td>\n",
       "      <td>2015-05-17 19:46:00</td>\n",
       "      <td>B00448</td>\n",
       "      <td>158</td>\n",
       "      <td>2015-05-17</td>\n",
       "      <td>19:46:00</td>\n",
       "    </tr>\n",
       "    <tr>\n",
       "      <th>12501263</th>\n",
       "      <td>B02765</td>\n",
       "      <td>2015-05-17 19:46:00</td>\n",
       "      <td>B02765</td>\n",
       "      <td>162</td>\n",
       "      <td>2015-05-17</td>\n",
       "      <td>19:46:00</td>\n",
       "    </tr>\n",
       "  </tbody>\n",
       "</table>\n",
       "<p>94322 rows × 6 columns</p>\n",
       "</div>"
      ],
      "text/plain": [
       "         Dispatching_base_num         Pickup_date Affiliated_base_num  \\\n",
       "0                      B02617 2015-05-17 09:47:00              B02617   \n",
       "1                      B02617 2015-05-17 09:47:00              B02617   \n",
       "2                      B02617 2015-05-17 09:47:00              B02617   \n",
       "3                      B02617 2015-05-17 09:47:00              B02774   \n",
       "4                      B02617 2015-05-17 09:47:00              B02617   \n",
       "...                       ...                 ...                 ...   \n",
       "12501259               B02765 2015-05-17 19:46:00              B02765   \n",
       "12501260               B02765 2015-05-17 19:46:00              B02765   \n",
       "12501261               B02765 2015-05-17 19:46:00              B02765   \n",
       "12501262               B02765 2015-05-17 19:46:00              B00448   \n",
       "12501263               B02765 2015-05-17 19:46:00              B02765   \n",
       "\n",
       "          locationID       date      hour  \n",
       "0                141 2015-05-17  09:47:00  \n",
       "1                 65 2015-05-17  09:47:00  \n",
       "2                100 2015-05-17  09:47:00  \n",
       "3                 80 2015-05-17  09:47:00  \n",
       "4                 90 2015-05-17  09:47:00  \n",
       "...              ...        ...       ...  \n",
       "12501259         192 2015-05-17  19:46:00  \n",
       "12501260         164 2015-05-17  19:46:00  \n",
       "12501261         100 2015-05-17  19:46:00  \n",
       "12501262         158 2015-05-17  19:46:00  \n",
       "12501263         162 2015-05-17  19:46:00  \n",
       "\n",
       "[94322 rows x 6 columns]"
      ]
     },
     "execution_count": 27,
     "metadata": {},
     "output_type": "execute_result"
    }
   ],
   "source": [
    "df_15[df_15[\"date\"]==\"2015-05-17\"]"
   ]
  },
  {
   "cell_type": "markdown",
   "metadata": {},
   "source": [
    "## creating 1 DF filtered on top date looking at value counts above"
   ]
  },
  {
   "cell_type": "code",
   "execution_count": 28,
   "metadata": {},
   "outputs": [],
   "source": [
    "df = df_15[df_15[\"date\"]==\"2015-06-27\"]"
   ]
  },
  {
   "cell_type": "code",
   "execution_count": 29,
   "metadata": {},
   "outputs": [
    {
     "name": "stdout",
     "output_type": "stream",
     "text": [
      "<class 'pandas.core.frame.DataFrame'>\n",
      "Int64Index: 136193 entries, 1342038 to 14123342\n",
      "Data columns (total 6 columns):\n",
      " #   Column                Non-Null Count   Dtype         \n",
      "---  ------                --------------   -----         \n",
      " 0   Dispatching_base_num  136193 non-null  object        \n",
      " 1   Pickup_date           136193 non-null  datetime64[ns]\n",
      " 2   Affiliated_base_num   136193 non-null  object        \n",
      " 3   locationID            136193 non-null  int64         \n",
      " 4   date                  136193 non-null  datetime64[ns]\n",
      " 5   hour                  136193 non-null  object        \n",
      "dtypes: datetime64[ns](2), int64(1), object(3)\n",
      "memory usage: 7.3+ MB\n"
     ]
    }
   ],
   "source": [
    "df.info()"
   ]
  },
  {
   "cell_type": "code",
   "execution_count": 30,
   "metadata": {},
   "outputs": [
    {
     "data": {
      "text/plain": [
       "(136193, 6)"
      ]
     },
     "execution_count": 30,
     "metadata": {},
     "output_type": "execute_result"
    }
   ],
   "source": [
    "df.shape"
   ]
  },
  {
   "cell_type": "code",
   "execution_count": 31,
   "metadata": {},
   "outputs": [
    {
     "data": {
      "text/html": [
       "<div>\n",
       "<style scoped>\n",
       "    .dataframe tbody tr th:only-of-type {\n",
       "        vertical-align: middle;\n",
       "    }\n",
       "\n",
       "    .dataframe tbody tr th {\n",
       "        vertical-align: top;\n",
       "    }\n",
       "\n",
       "    .dataframe thead th {\n",
       "        text-align: right;\n",
       "    }\n",
       "</style>\n",
       "<table border=\"1\" class=\"dataframe\">\n",
       "  <thead>\n",
       "    <tr style=\"text-align: right;\">\n",
       "      <th></th>\n",
       "      <th>Dispatching_base_num</th>\n",
       "      <th>Pickup_date</th>\n",
       "      <th>Affiliated_base_num</th>\n",
       "      <th>locationID</th>\n",
       "      <th>date</th>\n",
       "      <th>hour</th>\n",
       "    </tr>\n",
       "  </thead>\n",
       "  <tbody>\n",
       "    <tr>\n",
       "      <th>1342038</th>\n",
       "      <td>B02764</td>\n",
       "      <td>2015-06-27 17:28:00</td>\n",
       "      <td>B01899</td>\n",
       "      <td>161</td>\n",
       "      <td>2015-06-27</td>\n",
       "      <td>17:28:00</td>\n",
       "    </tr>\n",
       "    <tr>\n",
       "      <th>1342039</th>\n",
       "      <td>B02764</td>\n",
       "      <td>2015-06-27 17:28:00</td>\n",
       "      <td>B02764</td>\n",
       "      <td>230</td>\n",
       "      <td>2015-06-27</td>\n",
       "      <td>17:28:00</td>\n",
       "    </tr>\n",
       "    <tr>\n",
       "      <th>1342040</th>\n",
       "      <td>B02764</td>\n",
       "      <td>2015-06-27 17:28:00</td>\n",
       "      <td>B02729</td>\n",
       "      <td>263</td>\n",
       "      <td>2015-06-27</td>\n",
       "      <td>17:28:00</td>\n",
       "    </tr>\n",
       "    <tr>\n",
       "      <th>1342041</th>\n",
       "      <td>B02764</td>\n",
       "      <td>2015-06-27 17:28:00</td>\n",
       "      <td>B02764</td>\n",
       "      <td>141</td>\n",
       "      <td>2015-06-27</td>\n",
       "      <td>17:28:00</td>\n",
       "    </tr>\n",
       "    <tr>\n",
       "      <th>1342042</th>\n",
       "      <td>B02764</td>\n",
       "      <td>2015-06-27 17:28:00</td>\n",
       "      <td>B02764</td>\n",
       "      <td>255</td>\n",
       "      <td>2015-06-27</td>\n",
       "      <td>17:28:00</td>\n",
       "    </tr>\n",
       "  </tbody>\n",
       "</table>\n",
       "</div>"
      ],
      "text/plain": [
       "        Dispatching_base_num         Pickup_date Affiliated_base_num  \\\n",
       "1342038               B02764 2015-06-27 17:28:00              B01899   \n",
       "1342039               B02764 2015-06-27 17:28:00              B02764   \n",
       "1342040               B02764 2015-06-27 17:28:00              B02729   \n",
       "1342041               B02764 2015-06-27 17:28:00              B02764   \n",
       "1342042               B02764 2015-06-27 17:28:00              B02764   \n",
       "\n",
       "         locationID       date      hour  \n",
       "1342038         161 2015-06-27  17:28:00  \n",
       "1342039         230 2015-06-27  17:28:00  \n",
       "1342040         263 2015-06-27  17:28:00  \n",
       "1342041         141 2015-06-27  17:28:00  \n",
       "1342042         255 2015-06-27  17:28:00  "
      ]
     },
     "execution_count": 31,
     "metadata": {},
     "output_type": "execute_result"
    }
   ],
   "source": [
    "df.head()"
   ]
  },
  {
   "cell_type": "code",
   "execution_count": 32,
   "metadata": {},
   "outputs": [
    {
     "data": {
      "text/html": [
       "<div>\n",
       "<style scoped>\n",
       "    .dataframe tbody tr th:only-of-type {\n",
       "        vertical-align: middle;\n",
       "    }\n",
       "\n",
       "    .dataframe tbody tr th {\n",
       "        vertical-align: top;\n",
       "    }\n",
       "\n",
       "    .dataframe thead th {\n",
       "        text-align: right;\n",
       "    }\n",
       "</style>\n",
       "<table border=\"1\" class=\"dataframe\">\n",
       "  <thead>\n",
       "    <tr style=\"text-align: right;\">\n",
       "      <th></th>\n",
       "      <th>Pickup_date</th>\n",
       "      <th>locationID</th>\n",
       "    </tr>\n",
       "  </thead>\n",
       "  <tbody>\n",
       "    <tr>\n",
       "      <th>1342038</th>\n",
       "      <td>2015-06-27 17:28:00</td>\n",
       "      <td>161</td>\n",
       "    </tr>\n",
       "    <tr>\n",
       "      <th>1342039</th>\n",
       "      <td>2015-06-27 17:28:00</td>\n",
       "      <td>230</td>\n",
       "    </tr>\n",
       "    <tr>\n",
       "      <th>1342040</th>\n",
       "      <td>2015-06-27 17:28:00</td>\n",
       "      <td>263</td>\n",
       "    </tr>\n",
       "    <tr>\n",
       "      <th>1342041</th>\n",
       "      <td>2015-06-27 17:28:00</td>\n",
       "      <td>141</td>\n",
       "    </tr>\n",
       "    <tr>\n",
       "      <th>1342042</th>\n",
       "      <td>2015-06-27 17:28:00</td>\n",
       "      <td>255</td>\n",
       "    </tr>\n",
       "    <tr>\n",
       "      <th>...</th>\n",
       "      <td>...</td>\n",
       "      <td>...</td>\n",
       "    </tr>\n",
       "    <tr>\n",
       "      <th>14123338</th>\n",
       "      <td>2015-06-27 23:13:00</td>\n",
       "      <td>52</td>\n",
       "    </tr>\n",
       "    <tr>\n",
       "      <th>14123339</th>\n",
       "      <td>2015-06-27 23:23:00</td>\n",
       "      <td>79</td>\n",
       "    </tr>\n",
       "    <tr>\n",
       "      <th>14123340</th>\n",
       "      <td>2015-06-27 23:26:00</td>\n",
       "      <td>61</td>\n",
       "    </tr>\n",
       "    <tr>\n",
       "      <th>14123341</th>\n",
       "      <td>2015-06-27 23:42:00</td>\n",
       "      <td>225</td>\n",
       "    </tr>\n",
       "    <tr>\n",
       "      <th>14123342</th>\n",
       "      <td>2015-06-27 23:44:00</td>\n",
       "      <td>177</td>\n",
       "    </tr>\n",
       "  </tbody>\n",
       "</table>\n",
       "<p>136193 rows × 2 columns</p>\n",
       "</div>"
      ],
      "text/plain": [
       "                 Pickup_date  locationID\n",
       "1342038  2015-06-27 17:28:00         161\n",
       "1342039  2015-06-27 17:28:00         230\n",
       "1342040  2015-06-27 17:28:00         263\n",
       "1342041  2015-06-27 17:28:00         141\n",
       "1342042  2015-06-27 17:28:00         255\n",
       "...                      ...         ...\n",
       "14123338 2015-06-27 23:13:00          52\n",
       "14123339 2015-06-27 23:23:00          79\n",
       "14123340 2015-06-27 23:26:00          61\n",
       "14123341 2015-06-27 23:42:00         225\n",
       "14123342 2015-06-27 23:44:00         177\n",
       "\n",
       "[136193 rows x 2 columns]"
      ]
     },
     "execution_count": 32,
     "metadata": {},
     "output_type": "execute_result"
    }
   ],
   "source": [
    "df = df.drop([\"date\",\"hour\",\"Dispatching_base_num\",\"Affiliated_base_num\"], axis=1)\n",
    "df"
   ]
  },
  {
   "cell_type": "markdown",
   "metadata": {},
   "source": [
    "## locationID is considered as a categorial feature then switch to 2014 dataset"
   ]
  },
  {
   "cell_type": "code",
   "execution_count": 33,
   "metadata": {},
   "outputs": [
    {
     "name": "stdout",
     "output_type": "stream",
     "text": [
      "<class 'pandas.core.frame.DataFrame'>\n",
      "RangeIndex: 564516 entries, 0 to 564515\n",
      "Data columns (total 4 columns):\n",
      " #   Column     Non-Null Count   Dtype  \n",
      "---  ------     --------------   -----  \n",
      " 0   Date/Time  564516 non-null  object \n",
      " 1   Lat        564516 non-null  float64\n",
      " 2   Lon        564516 non-null  float64\n",
      " 3   Base       564516 non-null  object \n",
      "dtypes: float64(2), object(2)\n",
      "memory usage: 17.2+ MB\n"
     ]
    }
   ],
   "source": [
    "df_1404.info()"
   ]
  },
  {
   "cell_type": "code",
   "execution_count": 34,
   "metadata": {},
   "outputs": [],
   "source": [
    "df_1404[\"Date/Time\"] = pd.to_datetime(df_1404[\"Date/Time\"])"
   ]
  },
  {
   "cell_type": "code",
   "execution_count": 35,
   "metadata": {},
   "outputs": [
    {
     "name": "stdout",
     "output_type": "stream",
     "text": [
      "<class 'pandas.core.frame.DataFrame'>\n",
      "RangeIndex: 564516 entries, 0 to 564515\n",
      "Data columns (total 4 columns):\n",
      " #   Column     Non-Null Count   Dtype         \n",
      "---  ------     --------------   -----         \n",
      " 0   Date/Time  564516 non-null  datetime64[ns]\n",
      " 1   Lat        564516 non-null  float64       \n",
      " 2   Lon        564516 non-null  float64       \n",
      " 3   Base       564516 non-null  object        \n",
      "dtypes: datetime64[ns](1), float64(2), object(1)\n",
      "memory usage: 17.2+ MB\n"
     ]
    }
   ],
   "source": [
    "df_1404.info()"
   ]
  },
  {
   "cell_type": "code",
   "execution_count": 36,
   "metadata": {},
   "outputs": [
    {
     "data": {
      "text/html": [
       "<div>\n",
       "<style scoped>\n",
       "    .dataframe tbody tr th:only-of-type {\n",
       "        vertical-align: middle;\n",
       "    }\n",
       "\n",
       "    .dataframe tbody tr th {\n",
       "        vertical-align: top;\n",
       "    }\n",
       "\n",
       "    .dataframe thead th {\n",
       "        text-align: right;\n",
       "    }\n",
       "</style>\n",
       "<table border=\"1\" class=\"dataframe\">\n",
       "  <thead>\n",
       "    <tr style=\"text-align: right;\">\n",
       "      <th></th>\n",
       "      <th>Date/Time</th>\n",
       "      <th>Lat</th>\n",
       "      <th>Lon</th>\n",
       "      <th>Base</th>\n",
       "      <th>date</th>\n",
       "    </tr>\n",
       "  </thead>\n",
       "  <tbody>\n",
       "    <tr>\n",
       "      <th>0</th>\n",
       "      <td>2014-04-01 00:11:00</td>\n",
       "      <td>40.7690</td>\n",
       "      <td>-73.9549</td>\n",
       "      <td>B02512</td>\n",
       "      <td>2014-04-01</td>\n",
       "    </tr>\n",
       "    <tr>\n",
       "      <th>1</th>\n",
       "      <td>2014-04-01 00:17:00</td>\n",
       "      <td>40.7267</td>\n",
       "      <td>-74.0345</td>\n",
       "      <td>B02512</td>\n",
       "      <td>2014-04-01</td>\n",
       "    </tr>\n",
       "    <tr>\n",
       "      <th>2</th>\n",
       "      <td>2014-04-01 00:21:00</td>\n",
       "      <td>40.7316</td>\n",
       "      <td>-73.9873</td>\n",
       "      <td>B02512</td>\n",
       "      <td>2014-04-01</td>\n",
       "    </tr>\n",
       "    <tr>\n",
       "      <th>3</th>\n",
       "      <td>2014-04-01 00:28:00</td>\n",
       "      <td>40.7588</td>\n",
       "      <td>-73.9776</td>\n",
       "      <td>B02512</td>\n",
       "      <td>2014-04-01</td>\n",
       "    </tr>\n",
       "    <tr>\n",
       "      <th>4</th>\n",
       "      <td>2014-04-01 00:33:00</td>\n",
       "      <td>40.7594</td>\n",
       "      <td>-73.9722</td>\n",
       "      <td>B02512</td>\n",
       "      <td>2014-04-01</td>\n",
       "    </tr>\n",
       "    <tr>\n",
       "      <th>...</th>\n",
       "      <td>...</td>\n",
       "      <td>...</td>\n",
       "      <td>...</td>\n",
       "      <td>...</td>\n",
       "      <td>...</td>\n",
       "    </tr>\n",
       "    <tr>\n",
       "      <th>564511</th>\n",
       "      <td>2014-04-30 23:22:00</td>\n",
       "      <td>40.7640</td>\n",
       "      <td>-73.9744</td>\n",
       "      <td>B02764</td>\n",
       "      <td>2014-04-30</td>\n",
       "    </tr>\n",
       "    <tr>\n",
       "      <th>564512</th>\n",
       "      <td>2014-04-30 23:26:00</td>\n",
       "      <td>40.7629</td>\n",
       "      <td>-73.9672</td>\n",
       "      <td>B02764</td>\n",
       "      <td>2014-04-30</td>\n",
       "    </tr>\n",
       "    <tr>\n",
       "      <th>564513</th>\n",
       "      <td>2014-04-30 23:31:00</td>\n",
       "      <td>40.7443</td>\n",
       "      <td>-73.9889</td>\n",
       "      <td>B02764</td>\n",
       "      <td>2014-04-30</td>\n",
       "    </tr>\n",
       "    <tr>\n",
       "      <th>564514</th>\n",
       "      <td>2014-04-30 23:32:00</td>\n",
       "      <td>40.6756</td>\n",
       "      <td>-73.9405</td>\n",
       "      <td>B02764</td>\n",
       "      <td>2014-04-30</td>\n",
       "    </tr>\n",
       "    <tr>\n",
       "      <th>564515</th>\n",
       "      <td>2014-04-30 23:48:00</td>\n",
       "      <td>40.6880</td>\n",
       "      <td>-73.9608</td>\n",
       "      <td>B02764</td>\n",
       "      <td>2014-04-30</td>\n",
       "    </tr>\n",
       "  </tbody>\n",
       "</table>\n",
       "<p>564516 rows × 5 columns</p>\n",
       "</div>"
      ],
      "text/plain": [
       "                 Date/Time      Lat      Lon    Base        date\n",
       "0      2014-04-01 00:11:00  40.7690 -73.9549  B02512  2014-04-01\n",
       "1      2014-04-01 00:17:00  40.7267 -74.0345  B02512  2014-04-01\n",
       "2      2014-04-01 00:21:00  40.7316 -73.9873  B02512  2014-04-01\n",
       "3      2014-04-01 00:28:00  40.7588 -73.9776  B02512  2014-04-01\n",
       "4      2014-04-01 00:33:00  40.7594 -73.9722  B02512  2014-04-01\n",
       "...                    ...      ...      ...     ...         ...\n",
       "564511 2014-04-30 23:22:00  40.7640 -73.9744  B02764  2014-04-30\n",
       "564512 2014-04-30 23:26:00  40.7629 -73.9672  B02764  2014-04-30\n",
       "564513 2014-04-30 23:31:00  40.7443 -73.9889  B02764  2014-04-30\n",
       "564514 2014-04-30 23:32:00  40.6756 -73.9405  B02764  2014-04-30\n",
       "564515 2014-04-30 23:48:00  40.6880 -73.9608  B02764  2014-04-30\n",
       "\n",
       "[564516 rows x 5 columns]"
      ]
     },
     "execution_count": 36,
     "metadata": {},
     "output_type": "execute_result"
    }
   ],
   "source": [
    "df_1404[\"date\"] = df_1404[\"Date/Time\"].dt.date\n",
    "df_1404"
   ]
  },
  {
   "cell_type": "code",
   "execution_count": 37,
   "metadata": {},
   "outputs": [
    {
     "data": {
      "text/plain": [
       "2014-04-30    36251\n",
       "2014-04-04    26714\n",
       "2014-04-25    25095\n",
       "2014-04-26    24925\n",
       "2014-04-24    23352\n",
       "2014-04-29    22835\n",
       "2014-04-17    20973\n",
       "2014-04-03    20701\n",
       "2014-04-15    20641\n",
       "2014-04-11    20420\n",
       "2014-04-23    20346\n",
       "2014-04-10    20041\n",
       "2014-04-07    19550\n",
       "2014-04-05    19521\n",
       "2014-04-12    18170\n",
       "2014-04-18    18074\n",
       "2014-04-16    17717\n",
       "2014-04-02    17474\n",
       "2014-04-22    16975\n",
       "2014-04-09    16843\n",
       "2014-04-08    16188\n",
       "2014-04-28    15475\n",
       "2014-04-27    14677\n",
       "2014-04-19    14602\n",
       "2014-04-01    14546\n",
       "2014-04-06    13445\n",
       "2014-04-21    13162\n",
       "2014-04-14    12674\n",
       "2014-04-13    12112\n",
       "2014-04-20    11017\n",
       "Name: date, dtype: int64"
      ]
     },
     "execution_count": 37,
     "metadata": {},
     "output_type": "execute_result"
    }
   ],
   "source": [
    "df_1404[\"date\"].value_counts()"
   ]
  },
  {
   "cell_type": "code",
   "execution_count": 38,
   "metadata": {},
   "outputs": [
    {
     "data": {
      "text/html": [
       "<div>\n",
       "<style scoped>\n",
       "    .dataframe tbody tr th:only-of-type {\n",
       "        vertical-align: middle;\n",
       "    }\n",
       "\n",
       "    .dataframe tbody tr th {\n",
       "        vertical-align: top;\n",
       "    }\n",
       "\n",
       "    .dataframe thead th {\n",
       "        text-align: right;\n",
       "    }\n",
       "</style>\n",
       "<table border=\"1\" class=\"dataframe\">\n",
       "  <thead>\n",
       "    <tr style=\"text-align: right;\">\n",
       "      <th></th>\n",
       "      <th>Date/Time</th>\n",
       "      <th>Lat</th>\n",
       "      <th>Lon</th>\n",
       "      <th>Base</th>\n",
       "      <th>date</th>\n",
       "      <th>time</th>\n",
       "      <th>hour</th>\n",
       "      <th>minute</th>\n",
       "      <th>second</th>\n",
       "    </tr>\n",
       "  </thead>\n",
       "  <tbody>\n",
       "    <tr>\n",
       "      <th>0</th>\n",
       "      <td>2014-04-01 00:11:00</td>\n",
       "      <td>40.7690</td>\n",
       "      <td>-73.9549</td>\n",
       "      <td>B02512</td>\n",
       "      <td>2014-04-01</td>\n",
       "      <td>00:11:00</td>\n",
       "      <td>0</td>\n",
       "      <td>11</td>\n",
       "      <td>0</td>\n",
       "    </tr>\n",
       "    <tr>\n",
       "      <th>1</th>\n",
       "      <td>2014-04-01 00:17:00</td>\n",
       "      <td>40.7267</td>\n",
       "      <td>-74.0345</td>\n",
       "      <td>B02512</td>\n",
       "      <td>2014-04-01</td>\n",
       "      <td>00:17:00</td>\n",
       "      <td>0</td>\n",
       "      <td>17</td>\n",
       "      <td>0</td>\n",
       "    </tr>\n",
       "    <tr>\n",
       "      <th>2</th>\n",
       "      <td>2014-04-01 00:21:00</td>\n",
       "      <td>40.7316</td>\n",
       "      <td>-73.9873</td>\n",
       "      <td>B02512</td>\n",
       "      <td>2014-04-01</td>\n",
       "      <td>00:21:00</td>\n",
       "      <td>0</td>\n",
       "      <td>21</td>\n",
       "      <td>0</td>\n",
       "    </tr>\n",
       "    <tr>\n",
       "      <th>3</th>\n",
       "      <td>2014-04-01 00:28:00</td>\n",
       "      <td>40.7588</td>\n",
       "      <td>-73.9776</td>\n",
       "      <td>B02512</td>\n",
       "      <td>2014-04-01</td>\n",
       "      <td>00:28:00</td>\n",
       "      <td>0</td>\n",
       "      <td>28</td>\n",
       "      <td>0</td>\n",
       "    </tr>\n",
       "    <tr>\n",
       "      <th>4</th>\n",
       "      <td>2014-04-01 00:33:00</td>\n",
       "      <td>40.7594</td>\n",
       "      <td>-73.9722</td>\n",
       "      <td>B02512</td>\n",
       "      <td>2014-04-01</td>\n",
       "      <td>00:33:00</td>\n",
       "      <td>0</td>\n",
       "      <td>33</td>\n",
       "      <td>0</td>\n",
       "    </tr>\n",
       "    <tr>\n",
       "      <th>...</th>\n",
       "      <td>...</td>\n",
       "      <td>...</td>\n",
       "      <td>...</td>\n",
       "      <td>...</td>\n",
       "      <td>...</td>\n",
       "      <td>...</td>\n",
       "      <td>...</td>\n",
       "      <td>...</td>\n",
       "      <td>...</td>\n",
       "    </tr>\n",
       "    <tr>\n",
       "      <th>564511</th>\n",
       "      <td>2014-04-30 23:22:00</td>\n",
       "      <td>40.7640</td>\n",
       "      <td>-73.9744</td>\n",
       "      <td>B02764</td>\n",
       "      <td>2014-04-30</td>\n",
       "      <td>23:22:00</td>\n",
       "      <td>23</td>\n",
       "      <td>22</td>\n",
       "      <td>0</td>\n",
       "    </tr>\n",
       "    <tr>\n",
       "      <th>564512</th>\n",
       "      <td>2014-04-30 23:26:00</td>\n",
       "      <td>40.7629</td>\n",
       "      <td>-73.9672</td>\n",
       "      <td>B02764</td>\n",
       "      <td>2014-04-30</td>\n",
       "      <td>23:26:00</td>\n",
       "      <td>23</td>\n",
       "      <td>26</td>\n",
       "      <td>0</td>\n",
       "    </tr>\n",
       "    <tr>\n",
       "      <th>564513</th>\n",
       "      <td>2014-04-30 23:31:00</td>\n",
       "      <td>40.7443</td>\n",
       "      <td>-73.9889</td>\n",
       "      <td>B02764</td>\n",
       "      <td>2014-04-30</td>\n",
       "      <td>23:31:00</td>\n",
       "      <td>23</td>\n",
       "      <td>31</td>\n",
       "      <td>0</td>\n",
       "    </tr>\n",
       "    <tr>\n",
       "      <th>564514</th>\n",
       "      <td>2014-04-30 23:32:00</td>\n",
       "      <td>40.6756</td>\n",
       "      <td>-73.9405</td>\n",
       "      <td>B02764</td>\n",
       "      <td>2014-04-30</td>\n",
       "      <td>23:32:00</td>\n",
       "      <td>23</td>\n",
       "      <td>32</td>\n",
       "      <td>0</td>\n",
       "    </tr>\n",
       "    <tr>\n",
       "      <th>564515</th>\n",
       "      <td>2014-04-30 23:48:00</td>\n",
       "      <td>40.6880</td>\n",
       "      <td>-73.9608</td>\n",
       "      <td>B02764</td>\n",
       "      <td>2014-04-30</td>\n",
       "      <td>23:48:00</td>\n",
       "      <td>23</td>\n",
       "      <td>48</td>\n",
       "      <td>0</td>\n",
       "    </tr>\n",
       "  </tbody>\n",
       "</table>\n",
       "<p>564516 rows × 9 columns</p>\n",
       "</div>"
      ],
      "text/plain": [
       "                 Date/Time      Lat      Lon    Base        date      time  \\\n",
       "0      2014-04-01 00:11:00  40.7690 -73.9549  B02512  2014-04-01  00:11:00   \n",
       "1      2014-04-01 00:17:00  40.7267 -74.0345  B02512  2014-04-01  00:17:00   \n",
       "2      2014-04-01 00:21:00  40.7316 -73.9873  B02512  2014-04-01  00:21:00   \n",
       "3      2014-04-01 00:28:00  40.7588 -73.9776  B02512  2014-04-01  00:28:00   \n",
       "4      2014-04-01 00:33:00  40.7594 -73.9722  B02512  2014-04-01  00:33:00   \n",
       "...                    ...      ...      ...     ...         ...       ...   \n",
       "564511 2014-04-30 23:22:00  40.7640 -73.9744  B02764  2014-04-30  23:22:00   \n",
       "564512 2014-04-30 23:26:00  40.7629 -73.9672  B02764  2014-04-30  23:26:00   \n",
       "564513 2014-04-30 23:31:00  40.7443 -73.9889  B02764  2014-04-30  23:31:00   \n",
       "564514 2014-04-30 23:32:00  40.6756 -73.9405  B02764  2014-04-30  23:32:00   \n",
       "564515 2014-04-30 23:48:00  40.6880 -73.9608  B02764  2014-04-30  23:48:00   \n",
       "\n",
       "        hour  minute  second  \n",
       "0          0      11       0  \n",
       "1          0      17       0  \n",
       "2          0      21       0  \n",
       "3          0      28       0  \n",
       "4          0      33       0  \n",
       "...      ...     ...     ...  \n",
       "564511    23      22       0  \n",
       "564512    23      26       0  \n",
       "564513    23      31       0  \n",
       "564514    23      32       0  \n",
       "564515    23      48       0  \n",
       "\n",
       "[564516 rows x 9 columns]"
      ]
     },
     "execution_count": 38,
     "metadata": {},
     "output_type": "execute_result"
    }
   ],
   "source": [
    "df_1404[\"time\"] = df_1404[\"Date/Time\"].dt.time\n",
    "df_1404[\"hour\"] = df_1404[\"Date/Time\"].dt.hour\n",
    "df_1404[\"minute\"] = df_1404[\"Date/Time\"].dt.minute\n",
    "df_1404[\"second\"] = df_1404[\"Date/Time\"].dt.second\n",
    "df_1404"
   ]
  },
  {
   "cell_type": "code",
   "execution_count": 39,
   "metadata": {},
   "outputs": [
    {
     "data": {
      "text/plain": [
       "date\n",
       "2014-04-30    36251\n",
       "2014-04-04    26714\n",
       "2014-04-25    25095\n",
       "2014-04-26    24925\n",
       "2014-04-24    23352\n",
       "2014-04-29    22835\n",
       "2014-04-17    20973\n",
       "2014-04-03    20701\n",
       "2014-04-15    20641\n",
       "2014-04-11    20420\n",
       "2014-04-23    20346\n",
       "2014-04-10    20041\n",
       "2014-04-07    19550\n",
       "2014-04-05    19521\n",
       "2014-04-12    18170\n",
       "2014-04-18    18074\n",
       "2014-04-16    17717\n",
       "2014-04-02    17474\n",
       "2014-04-22    16975\n",
       "2014-04-09    16843\n",
       "2014-04-08    16188\n",
       "2014-04-28    15475\n",
       "2014-04-27    14677\n",
       "2014-04-19    14602\n",
       "2014-04-01    14546\n",
       "2014-04-06    13445\n",
       "2014-04-21    13162\n",
       "2014-04-14    12674\n",
       "2014-04-13    12112\n",
       "2014-04-20    11017\n",
       "dtype: int64"
      ]
     },
     "execution_count": 39,
     "metadata": {},
     "output_type": "execute_result"
    }
   ],
   "source": [
    "df_1404.groupby(['date']).size().sort_values(ascending=False)"
   ]
  },
  {
   "cell_type": "code",
   "execution_count": 40,
   "metadata": {},
   "outputs": [
    {
     "data": {
      "text/plain": [
       "Lat      Lon     \n",
       "40.6449  -73.7822    418\n",
       "         -73.7821    380\n",
       "         -73.7823    374\n",
       "40.6450  -73.7819    373\n",
       "         -73.7820    319\n",
       "                    ... \n",
       "40.7487  -74.0278      1\n",
       "         -74.0276      1\n",
       "         -74.0092      1\n",
       "         -74.0083      1\n",
       "40.0729  -74.1638      1\n",
       "Length: 185316, dtype: int64"
      ]
     },
     "execution_count": 40,
     "metadata": {},
     "output_type": "execute_result"
    }
   ],
   "source": [
    "df_1404.groupby(['Lat','Lon']).size().sort_values(ascending=False)"
   ]
  },
  {
   "cell_type": "code",
   "execution_count": 41,
   "metadata": {},
   "outputs": [],
   "source": [
    "df_1404[\"date\"] = pd.to_datetime(df_1404[\"date\"])"
   ]
  },
  {
   "cell_type": "code",
   "execution_count": 42,
   "metadata": {},
   "outputs": [
    {
     "data": {
      "text/html": [
       "<div>\n",
       "<style scoped>\n",
       "    .dataframe tbody tr th:only-of-type {\n",
       "        vertical-align: middle;\n",
       "    }\n",
       "\n",
       "    .dataframe tbody tr th {\n",
       "        vertical-align: top;\n",
       "    }\n",
       "\n",
       "    .dataframe thead th {\n",
       "        text-align: right;\n",
       "    }\n",
       "</style>\n",
       "<table border=\"1\" class=\"dataframe\">\n",
       "  <thead>\n",
       "    <tr style=\"text-align: right;\">\n",
       "      <th></th>\n",
       "      <th>Date/Time</th>\n",
       "      <th>Lat</th>\n",
       "      <th>Lon</th>\n",
       "      <th>Base</th>\n",
       "      <th>date</th>\n",
       "      <th>time</th>\n",
       "      <th>hour</th>\n",
       "      <th>minute</th>\n",
       "      <th>second</th>\n",
       "    </tr>\n",
       "  </thead>\n",
       "  <tbody>\n",
       "    <tr>\n",
       "      <th>33350</th>\n",
       "      <td>2014-04-30 00:02:00</td>\n",
       "      <td>40.7685</td>\n",
       "      <td>-73.9581</td>\n",
       "      <td>B02512</td>\n",
       "      <td>2014-04-30</td>\n",
       "      <td>00:02:00</td>\n",
       "      <td>0</td>\n",
       "      <td>2</td>\n",
       "      <td>0</td>\n",
       "    </tr>\n",
       "    <tr>\n",
       "      <th>33351</th>\n",
       "      <td>2014-04-30 00:02:00</td>\n",
       "      <td>40.6444</td>\n",
       "      <td>-73.7823</td>\n",
       "      <td>B02512</td>\n",
       "      <td>2014-04-30</td>\n",
       "      <td>00:02:00</td>\n",
       "      <td>0</td>\n",
       "      <td>2</td>\n",
       "      <td>0</td>\n",
       "    </tr>\n",
       "    <tr>\n",
       "      <th>33352</th>\n",
       "      <td>2014-04-30 00:03:00</td>\n",
       "      <td>40.7715</td>\n",
       "      <td>-73.9825</td>\n",
       "      <td>B02512</td>\n",
       "      <td>2014-04-30</td>\n",
       "      <td>00:03:00</td>\n",
       "      <td>0</td>\n",
       "      <td>3</td>\n",
       "      <td>0</td>\n",
       "    </tr>\n",
       "    <tr>\n",
       "      <th>33353</th>\n",
       "      <td>2014-04-30 00:11:00</td>\n",
       "      <td>40.6799</td>\n",
       "      <td>-73.9075</td>\n",
       "      <td>B02512</td>\n",
       "      <td>2014-04-30</td>\n",
       "      <td>00:11:00</td>\n",
       "      <td>0</td>\n",
       "      <td>11</td>\n",
       "      <td>0</td>\n",
       "    </tr>\n",
       "    <tr>\n",
       "      <th>33354</th>\n",
       "      <td>2014-04-30 00:12:00</td>\n",
       "      <td>40.7198</td>\n",
       "      <td>-73.9858</td>\n",
       "      <td>B02512</td>\n",
       "      <td>2014-04-30</td>\n",
       "      <td>00:12:00</td>\n",
       "      <td>0</td>\n",
       "      <td>12</td>\n",
       "      <td>0</td>\n",
       "    </tr>\n",
       "    <tr>\n",
       "      <th>...</th>\n",
       "      <td>...</td>\n",
       "      <td>...</td>\n",
       "      <td>...</td>\n",
       "      <td>...</td>\n",
       "      <td>...</td>\n",
       "      <td>...</td>\n",
       "      <td>...</td>\n",
       "      <td>...</td>\n",
       "      <td>...</td>\n",
       "    </tr>\n",
       "    <tr>\n",
       "      <th>564511</th>\n",
       "      <td>2014-04-30 23:22:00</td>\n",
       "      <td>40.7640</td>\n",
       "      <td>-73.9744</td>\n",
       "      <td>B02764</td>\n",
       "      <td>2014-04-30</td>\n",
       "      <td>23:22:00</td>\n",
       "      <td>23</td>\n",
       "      <td>22</td>\n",
       "      <td>0</td>\n",
       "    </tr>\n",
       "    <tr>\n",
       "      <th>564512</th>\n",
       "      <td>2014-04-30 23:26:00</td>\n",
       "      <td>40.7629</td>\n",
       "      <td>-73.9672</td>\n",
       "      <td>B02764</td>\n",
       "      <td>2014-04-30</td>\n",
       "      <td>23:26:00</td>\n",
       "      <td>23</td>\n",
       "      <td>26</td>\n",
       "      <td>0</td>\n",
       "    </tr>\n",
       "    <tr>\n",
       "      <th>564513</th>\n",
       "      <td>2014-04-30 23:31:00</td>\n",
       "      <td>40.7443</td>\n",
       "      <td>-73.9889</td>\n",
       "      <td>B02764</td>\n",
       "      <td>2014-04-30</td>\n",
       "      <td>23:31:00</td>\n",
       "      <td>23</td>\n",
       "      <td>31</td>\n",
       "      <td>0</td>\n",
       "    </tr>\n",
       "    <tr>\n",
       "      <th>564514</th>\n",
       "      <td>2014-04-30 23:32:00</td>\n",
       "      <td>40.6756</td>\n",
       "      <td>-73.9405</td>\n",
       "      <td>B02764</td>\n",
       "      <td>2014-04-30</td>\n",
       "      <td>23:32:00</td>\n",
       "      <td>23</td>\n",
       "      <td>32</td>\n",
       "      <td>0</td>\n",
       "    </tr>\n",
       "    <tr>\n",
       "      <th>564515</th>\n",
       "      <td>2014-04-30 23:48:00</td>\n",
       "      <td>40.6880</td>\n",
       "      <td>-73.9608</td>\n",
       "      <td>B02764</td>\n",
       "      <td>2014-04-30</td>\n",
       "      <td>23:48:00</td>\n",
       "      <td>23</td>\n",
       "      <td>48</td>\n",
       "      <td>0</td>\n",
       "    </tr>\n",
       "  </tbody>\n",
       "</table>\n",
       "<p>36251 rows × 9 columns</p>\n",
       "</div>"
      ],
      "text/plain": [
       "                 Date/Time      Lat      Lon    Base       date      time  \\\n",
       "33350  2014-04-30 00:02:00  40.7685 -73.9581  B02512 2014-04-30  00:02:00   \n",
       "33351  2014-04-30 00:02:00  40.6444 -73.7823  B02512 2014-04-30  00:02:00   \n",
       "33352  2014-04-30 00:03:00  40.7715 -73.9825  B02512 2014-04-30  00:03:00   \n",
       "33353  2014-04-30 00:11:00  40.6799 -73.9075  B02512 2014-04-30  00:11:00   \n",
       "33354  2014-04-30 00:12:00  40.7198 -73.9858  B02512 2014-04-30  00:12:00   \n",
       "...                    ...      ...      ...     ...        ...       ...   \n",
       "564511 2014-04-30 23:22:00  40.7640 -73.9744  B02764 2014-04-30  23:22:00   \n",
       "564512 2014-04-30 23:26:00  40.7629 -73.9672  B02764 2014-04-30  23:26:00   \n",
       "564513 2014-04-30 23:31:00  40.7443 -73.9889  B02764 2014-04-30  23:31:00   \n",
       "564514 2014-04-30 23:32:00  40.6756 -73.9405  B02764 2014-04-30  23:32:00   \n",
       "564515 2014-04-30 23:48:00  40.6880 -73.9608  B02764 2014-04-30  23:48:00   \n",
       "\n",
       "        hour  minute  second  \n",
       "33350      0       2       0  \n",
       "33351      0       2       0  \n",
       "33352      0       3       0  \n",
       "33353      0      11       0  \n",
       "33354      0      12       0  \n",
       "...      ...     ...     ...  \n",
       "564511    23      22       0  \n",
       "564512    23      26       0  \n",
       "564513    23      31       0  \n",
       "564514    23      32       0  \n",
       "564515    23      48       0  \n",
       "\n",
       "[36251 rows x 9 columns]"
      ]
     },
     "execution_count": 42,
     "metadata": {},
     "output_type": "execute_result"
    }
   ],
   "source": [
    "df_140430= df_1404[df_1404[\"date\"]=='2014-04-30']\n",
    "df_140430"
   ]
  },
  {
   "cell_type": "code",
   "execution_count": 43,
   "metadata": {},
   "outputs": [
    {
     "name": "stderr",
     "output_type": "stream",
     "text": [
      "<ipython-input-43-9087cb8dd9fc>:1: SettingWithCopyWarning:\n",
      "\n",
      "\n",
      "A value is trying to be set on a copy of a slice from a DataFrame.\n",
      "Try using .loc[row_indexer,col_indexer] = value instead\n",
      "\n",
      "See the caveats in the documentation: https://pandas.pydata.org/pandas-docs/stable/user_guide/indexing.html#returning-a-view-versus-a-copy\n",
      "\n"
     ]
    }
   ],
   "source": [
    "df_140430[\"total_mn\"] = df_140430[\"Date/Time\"].dt.hour*60+df_140430[\"Date/Time\"].dt.minute+df_140430[\"Date/Time\"].dt.second/60\n",
    "# timeobject.hour*60+timeobject.minute+timeobject.second/60"
   ]
  },
  {
   "cell_type": "code",
   "execution_count": 44,
   "metadata": {},
   "outputs": [
    {
     "data": {
      "text/html": [
       "<div>\n",
       "<style scoped>\n",
       "    .dataframe tbody tr th:only-of-type {\n",
       "        vertical-align: middle;\n",
       "    }\n",
       "\n",
       "    .dataframe tbody tr th {\n",
       "        vertical-align: top;\n",
       "    }\n",
       "\n",
       "    .dataframe thead th {\n",
       "        text-align: right;\n",
       "    }\n",
       "</style>\n",
       "<table border=\"1\" class=\"dataframe\">\n",
       "  <thead>\n",
       "    <tr style=\"text-align: right;\">\n",
       "      <th></th>\n",
       "      <th>Lat</th>\n",
       "      <th>Lon</th>\n",
       "    </tr>\n",
       "  </thead>\n",
       "  <tbody>\n",
       "    <tr>\n",
       "      <th>33350</th>\n",
       "      <td>40.7685</td>\n",
       "      <td>-73.9581</td>\n",
       "    </tr>\n",
       "    <tr>\n",
       "      <th>33351</th>\n",
       "      <td>40.6444</td>\n",
       "      <td>-73.7823</td>\n",
       "    </tr>\n",
       "    <tr>\n",
       "      <th>33352</th>\n",
       "      <td>40.7715</td>\n",
       "      <td>-73.9825</td>\n",
       "    </tr>\n",
       "    <tr>\n",
       "      <th>33353</th>\n",
       "      <td>40.6799</td>\n",
       "      <td>-73.9075</td>\n",
       "    </tr>\n",
       "    <tr>\n",
       "      <th>33354</th>\n",
       "      <td>40.7198</td>\n",
       "      <td>-73.9858</td>\n",
       "    </tr>\n",
       "    <tr>\n",
       "      <th>...</th>\n",
       "      <td>...</td>\n",
       "      <td>...</td>\n",
       "    </tr>\n",
       "    <tr>\n",
       "      <th>564511</th>\n",
       "      <td>40.7640</td>\n",
       "      <td>-73.9744</td>\n",
       "    </tr>\n",
       "    <tr>\n",
       "      <th>564512</th>\n",
       "      <td>40.7629</td>\n",
       "      <td>-73.9672</td>\n",
       "    </tr>\n",
       "    <tr>\n",
       "      <th>564513</th>\n",
       "      <td>40.7443</td>\n",
       "      <td>-73.9889</td>\n",
       "    </tr>\n",
       "    <tr>\n",
       "      <th>564514</th>\n",
       "      <td>40.6756</td>\n",
       "      <td>-73.9405</td>\n",
       "    </tr>\n",
       "    <tr>\n",
       "      <th>564515</th>\n",
       "      <td>40.6880</td>\n",
       "      <td>-73.9608</td>\n",
       "    </tr>\n",
       "  </tbody>\n",
       "</table>\n",
       "<p>36251 rows × 2 columns</p>\n",
       "</div>"
      ],
      "text/plain": [
       "            Lat      Lon\n",
       "33350   40.7685 -73.9581\n",
       "33351   40.6444 -73.7823\n",
       "33352   40.7715 -73.9825\n",
       "33353   40.6799 -73.9075\n",
       "33354   40.7198 -73.9858\n",
       "...         ...      ...\n",
       "564511  40.7640 -73.9744\n",
       "564512  40.7629 -73.9672\n",
       "564513  40.7443 -73.9889\n",
       "564514  40.6756 -73.9405\n",
       "564515  40.6880 -73.9608\n",
       "\n",
       "[36251 rows x 2 columns]"
      ]
     },
     "execution_count": 44,
     "metadata": {},
     "output_type": "execute_result"
    }
   ],
   "source": [
    "# df_140430_2 = df_140430.drop([\"Date/Time\",\"Base\",\"date\",\"hour\",\"minute\",\"second\",\"time\"],axis=1)\n",
    "df_140430_2 = df_140430.drop([\"Date/Time\",\"Base\",\"date\",\"hour\",\"minute\",\"second\",\"time\",\"total_mn\"],axis=1)\n",
    "\n",
    "df_140430_2"
   ]
  },
  {
   "cell_type": "code",
   "execution_count": 45,
   "metadata": {},
   "outputs": [
    {
     "name": "stdout",
     "output_type": "stream",
     "text": [
      "<class 'pandas.core.frame.DataFrame'>\n",
      "Int64Index: 36251 entries, 33350 to 564515\n",
      "Data columns (total 2 columns):\n",
      " #   Column  Non-Null Count  Dtype  \n",
      "---  ------  --------------  -----  \n",
      " 0   Lat     36251 non-null  float64\n",
      " 1   Lon     36251 non-null  float64\n",
      "dtypes: float64(2)\n",
      "memory usage: 849.6 KB\n"
     ]
    }
   ],
   "source": [
    "df_140430_2.info()"
   ]
  },
  {
   "cell_type": "markdown",
   "metadata": {},
   "source": [
    "## standardize features"
   ]
  },
  {
   "cell_type": "code",
   "execution_count": 46,
   "metadata": {},
   "outputs": [],
   "source": [
    "X = df_140430_2"
   ]
  },
  {
   "cell_type": "code",
   "execution_count": 47,
   "metadata": {},
   "outputs": [],
   "source": [
    "sc = StandardScaler()"
   ]
  },
  {
   "cell_type": "code",
   "execution_count": 48,
   "metadata": {},
   "outputs": [],
   "source": [
    "X = sc.fit_transform(X)"
   ]
  },
  {
   "cell_type": "code",
   "execution_count": 49,
   "metadata": {},
   "outputs": [
    {
     "data": {
      "text/plain": [
       "array([[ 0.79059125,  0.50955073],\n",
       "       [-3.1747231 ,  4.68721289],\n",
       "       [ 0.88644897, -0.07028407],\n",
       "       [-2.04040675,  1.71199501],\n",
       "       [-0.76549908, -0.14870435]])"
      ]
     },
     "execution_count": 49,
     "metadata": {},
     "output_type": "execute_result"
    }
   ],
   "source": [
    "X[:5]"
   ]
  },
  {
   "cell_type": "markdown",
   "metadata": {},
   "source": [
    "## Kmeans method"
   ]
  },
  {
   "cell_type": "code",
   "execution_count": 50,
   "metadata": {},
   "outputs": [
    {
     "data": {
      "text/plain": [
       "KMeans(n_clusters=3, random_state=0)"
      ]
     },
     "execution_count": 50,
     "metadata": {},
     "output_type": "execute_result"
    }
   ],
   "source": [
    "kmeans = KMeans(n_clusters=3, random_state=0, init=\"k-means++\")\n",
    "kmeans.fit(X)"
   ]
  },
  {
   "cell_type": "code",
   "execution_count": 51,
   "metadata": {},
   "outputs": [],
   "source": [
    "cluster_centers = sc.inverse_transform(kmeans.cluster_centers_)"
   ]
  },
  {
   "cell_type": "code",
   "execution_count": 52,
   "metadata": {},
   "outputs": [
    {
     "data": {
      "text/plain": [
       "Index(['Lat', 'Lon'], dtype='object')"
      ]
     },
     "execution_count": 52,
     "metadata": {},
     "output_type": "execute_result"
    }
   ],
   "source": [
    "df_140430_2.columns"
   ]
  },
  {
   "cell_type": "code",
   "execution_count": 53,
   "metadata": {},
   "outputs": [
    {
     "data": {
      "text/plain": [
       "<AxesSubplot:>"
      ]
     },
     "execution_count": 53,
     "metadata": {},
     "output_type": "execute_result"
    },
    {
     "data": {
      "image/png": "[encoded data removed]",
      "text/plain": [
       "<Figure size 432x288 with 2 Axes>"
      ]
     },
     "metadata": {
      "needs_background": "light"
     },
     "output_type": "display_data"
    }
   ],
   "source": [
    "import seaborn as sns\n",
    "import pandas as pd\n",
    "# labels = df_140430_2.columns\n",
    "# sns.heatmap(pd.DataFrame(cluster_centers, columns=labels),  annot=True)\n",
    "\n",
    "\n",
    "sns.heatmap(pd.DataFrame(cluster_centers),  annot=True)"
   ]
  },
  {
   "cell_type": "code",
   "execution_count": 54,
   "metadata": {},
   "outputs": [
    {
     "data": {
      "text/plain": [
       "array([[ 40.76508039, -73.97091929],\n",
       "       [ 40.66957949, -73.7803368 ],\n",
       "       [ 40.72488512, -73.99647892]])"
      ]
     },
     "execution_count": 54,
     "metadata": {},
     "output_type": "execute_result"
    }
   ],
   "source": [
    "cluster_centers"
   ]
  },
  {
   "cell_type": "code",
   "execution_count": 55,
   "metadata": {},
   "outputs": [
    {
     "name": "stdout",
     "output_type": "stream",
     "text": [
      "WCSS for K=1 --> 72502.00000000089\n",
      "WCSS for K=2 --> 51717.83625719308\n",
      "WCSS for K=3 --> 34216.22622298287\n",
      "WCSS for K=4 --> 27924.122036997163\n",
      "WCSS for K=5 --> 23098.00523205106\n",
      "WCSS for K=6 --> 18452.751302542016\n",
      "WCSS for K=7 --> 14877.050150902738\n",
      "WCSS for K=8 --> 12435.59607365183\n",
      "WCSS for K=9 --> 10946.084684628875\n",
      "WCSS for K=10 --> 9578.924354070166\n"
     ]
    }
   ],
   "source": [
    "wcss =  []\n",
    "k = []\n",
    "for i in range (1,11): \n",
    "    kmeans = KMeans(n_clusters= i, init = \"k-means++\", random_state = 0)\n",
    "    kmeans.fit(X)\n",
    "    wcss.append(kmeans.inertia_)\n",
    "    k.append(i)\n",
    "    print(\"WCSS for K={} --> {}\".format(i, wcss[-1]))"
   ]
  },
  {
   "cell_type": "code",
   "execution_count": 56,
   "metadata": {},
   "outputs": [
    {
     "name": "stdout",
     "output_type": "stream",
     "text": [
      "Silhouette score for K=2 is 0.7405495432775854\n",
      "Silhouette score for K=3 is 0.44665542443383177\n",
      "Silhouette score for K=4 is 0.4652501875661078\n",
      "Silhouette score for K=5 is 0.47421789732402464\n",
      "Silhouette score for K=6 is 0.4842475507279575\n",
      "Silhouette score for K=7 is 0.4875946397370068\n",
      "Silhouette score for K=8 is 0.4348974825085442\n",
      "Silhouette score for K=9 is 0.40660036494532387\n",
      "Silhouette score for K=10 is 0.4100819484324541\n"
     ]
    }
   ],
   "source": [
    "\n",
    "\n",
    "# Computer mean silhouette score\n",
    "sil = []\n",
    "k = []\n",
    "\n",
    "## Careful, you need to start at i=2 as silhouette score cannot accept less than 2 labels \n",
    "for i in range (2,11): \n",
    "    kmeans = KMeans(n_clusters= i, init = \"k-means++\", random_state = 0)\n",
    "    kmeans.fit(X)\n",
    "    sil.append(silhouette_score(X, kmeans.predict(X)))\n",
    "    k.append(i)\n",
    "    print(\"Silhouette score for K={} is {}\".format(i, sil[-1]))"
   ]
  },
  {
   "cell_type": "markdown",
   "metadata": {},
   "source": [
    "## Kmeans method doesn't work !"
   ]
  },
  {
   "cell_type": "markdown",
   "metadata": {},
   "source": [
    "## DBscan : let's have a try !  !"
   ]
  },
  {
   "cell_type": "code",
   "execution_count": 57,
   "metadata": {},
   "outputs": [
    {
     "name": "stdout",
     "output_type": "stream",
     "text": [
      "Requirement already satisfied: plotly in /opt/conda/lib/python3.8/site-packages (5.3.1)\n",
      "Requirement already satisfied: tenacity>=6.2.0 in /opt/conda/lib/python3.8/site-packages (from plotly) (8.0.1)\n",
      "Requirement already satisfied: six in /opt/conda/lib/python3.8/site-packages (from plotly) (1.15.0)\n"
     ]
    }
   ],
   "source": [
    "!pip install plotly"
   ]
  },
  {
   "cell_type": "code",
   "execution_count": 145,
   "metadata": {},
   "outputs": [
    {
     "data": {
      "text/plain": [
       "\u001b[0;31mInit signature:\u001b[0m\n",
       "\u001b[0mgo\u001b[0m\u001b[0;34m.\u001b[0m\u001b[0mFigure\u001b[0m\u001b[0;34m(\u001b[0m\u001b[0;34m\u001b[0m\n",
       "\u001b[0;34m\u001b[0m    \u001b[0mdata\u001b[0m\u001b[0;34m=\u001b[0m\u001b[0;32mNone\u001b[0m\u001b[0;34m,\u001b[0m\u001b[0;34m\u001b[0m\n",
       "\u001b[0;34m\u001b[0m    \u001b[0mlayout\u001b[0m\u001b[0;34m=\u001b[0m\u001b[0;32mNone\u001b[0m\u001b[0;34m,\u001b[0m\u001b[0;34m\u001b[0m\n",
       "\u001b[0;34m\u001b[0m    \u001b[0mframes\u001b[0m\u001b[0;34m=\u001b[0m\u001b[0;32mNone\u001b[0m\u001b[0;34m,\u001b[0m\u001b[0;34m\u001b[0m\n",
       "\u001b[0;34m\u001b[0m    \u001b[0mskip_invalid\u001b[0m\u001b[0;34m=\u001b[0m\u001b[0;32mFalse\u001b[0m\u001b[0;34m,\u001b[0m\u001b[0;34m\u001b[0m\n",
       "\u001b[0;34m\u001b[0m    \u001b[0;34m**\u001b[0m\u001b[0mkwargs\u001b[0m\u001b[0;34m,\u001b[0m\u001b[0;34m\u001b[0m\n",
       "\u001b[0;34m\u001b[0m\u001b[0;34m)\u001b[0m\u001b[0;34m\u001b[0m\u001b[0;34m\u001b[0m\u001b[0m\n",
       "\u001b[0;31mDocstring:\u001b[0m      Base class for all figure types (both widget and non-widget)\n",
       "\u001b[0;31mInit docstring:\u001b[0m\n",
       "Create a new :class:Figure instance\n",
       "\n",
       "Parameters\n",
       "----------\n",
       "data\n",
       "    The 'data' property is a tuple of trace instances\n",
       "    that may be specified as:\n",
       "      - A list or tuple of trace instances\n",
       "        (e.g. [Scatter(...), Bar(...)])\n",
       "      - A single trace instance\n",
       "        (e.g. Scatter(...), Bar(...), etc.)\n",
       "      - A list or tuple of dicts of string/value properties where:\n",
       "        - The 'type' property specifies the trace type\n",
       "            One of: ['bar', 'barpolar', 'box', 'candlestick',\n",
       "                     'carpet', 'choropleth', 'choroplethmapbox',\n",
       "                     'cone', 'contour', 'contourcarpet',\n",
       "                     'densitymapbox', 'funnel', 'funnelarea',\n",
       "                     'heatmap', 'heatmapgl', 'histogram',\n",
       "                     'histogram2d', 'histogram2dcontour', 'icicle',\n",
       "                     'image', 'indicator', 'isosurface', 'mesh3d',\n",
       "                     'ohlc', 'parcats', 'parcoords', 'pie',\n",
       "                     'pointcloud', 'sankey', 'scatter',\n",
       "                     'scatter3d', 'scattercarpet', 'scattergeo',\n",
       "                     'scattergl', 'scattermapbox', 'scatterpolar',\n",
       "                     'scatterpolargl', 'scatterternary', 'splom',\n",
       "                     'streamtube', 'sunburst', 'surface', 'table',\n",
       "                     'treemap', 'violin', 'volume', 'waterfall']\n",
       "\n",
       "        - All remaining properties are passed to the constructor of\n",
       "          the specified trace type\n",
       "\n",
       "        (e.g. [{'type': 'scatter', ...}, {'type': 'bar, ...}])\n",
       "\n",
       "layout\n",
       "    The 'layout' property is an instance of Layout\n",
       "    that may be specified as:\n",
       "      - An instance of :class:`plotly.graph_objs.Layout`\n",
       "      - A dict of string/value properties that will be passed\n",
       "        to the Layout constructor\n",
       "\n",
       "        Supported dict properties:\n",
       "            \n",
       "            activeshape\n",
       "                :class:`plotly.graph_objects.layout.Activeshape\n",
       "                ` instance or dict with compatible properties\n",
       "            annotations\n",
       "                A tuple of\n",
       "                :class:`plotly.graph_objects.layout.Annotation`\n",
       "                instances or dicts with compatible properties\n",
       "            annotationdefaults\n",
       "                When used in a template (as\n",
       "                layout.template.layout.annotationdefaults),\n",
       "                sets the default property values to use for\n",
       "                elements of layout.annotations\n",
       "            autosize\n",
       "                Determines whether or not a layout width or\n",
       "                height that has been left undefined by the user\n",
       "                is initialized on each relayout. Note that,\n",
       "                regardless of this attribute, an undefined\n",
       "                layout width or height is always initialized on\n",
       "                the first call to plot.\n",
       "            autotypenumbers\n",
       "                Using \"strict\" a numeric string in trace data\n",
       "                is not converted to a number. Using *convert\n",
       "                types* a numeric string in trace data may be\n",
       "                treated as a number during automatic axis\n",
       "                `type` detection. This is the default value;\n",
       "                however it could be overridden for individual\n",
       "                axes.\n",
       "            bargap\n",
       "                Sets the gap (in plot fraction) between bars of\n",
       "                adjacent location coordinates.\n",
       "            bargroupgap\n",
       "                Sets the gap (in plot fraction) between bars of\n",
       "                the same location coordinate.\n",
       "            barmode\n",
       "                Determines how bars at the same location\n",
       "                coordinate are displayed on the graph. With\n",
       "                \"stack\", the bars are stacked on top of one\n",
       "                another With \"relative\", the bars are stacked\n",
       "                on top of one another, with negative values\n",
       "                below the axis, positive values above With\n",
       "                \"group\", the bars are plotted next to one\n",
       "                another centered around the shared location.\n",
       "                With \"overlay\", the bars are plotted over one\n",
       "                another, you might need to an \"opacity\" to see\n",
       "                multiple bars.\n",
       "            barnorm\n",
       "                Sets the normalization for bar traces on the\n",
       "                graph. With \"fraction\", the value of each bar\n",
       "                is divided by the sum of all values at that\n",
       "                location coordinate. \"percent\" is the same but\n",
       "                multiplied by 100 to show percentages.\n",
       "            boxgap\n",
       "                Sets the gap (in plot fraction) between boxes\n",
       "                of adjacent location coordinates. Has no effect\n",
       "                on traces that have \"width\" set.\n",
       "            boxgroupgap\n",
       "                Sets the gap (in plot fraction) between boxes\n",
       "                of the same location coordinate. Has no effect\n",
       "                on traces that have \"width\" set.\n",
       "            boxmode\n",
       "                Determines how boxes at the same location\n",
       "                coordinate are displayed on the graph. If\n",
       "                \"group\", the boxes are plotted next to one\n",
       "                another centered around the shared location. If\n",
       "                \"overlay\", the boxes are plotted over one\n",
       "                another, you might need to set \"opacity\" to see\n",
       "                them multiple boxes. Has no effect on traces\n",
       "                that have \"width\" set.\n",
       "            calendar\n",
       "                Sets the default calendar system to use for\n",
       "                interpreting and displaying dates throughout\n",
       "                the plot.\n",
       "            clickmode\n",
       "                Determines the mode of single click\n",
       "                interactions. \"event\" is the default value and\n",
       "                emits the `plotly_click` event. In addition\n",
       "                this mode emits the `plotly_selected` event in\n",
       "                drag modes \"lasso\" and \"select\", but with no\n",
       "                event data attached (kept for compatibility\n",
       "                reasons). The \"select\" flag enables selecting\n",
       "                single data points via click. This mode also\n",
       "                supports persistent selections, meaning that\n",
       "                pressing Shift while clicking, adds to /\n",
       "                subtracts from an existing selection. \"select\"\n",
       "                with `hovermode`: \"x\" can be confusing,\n",
       "                consider explicitly setting `hovermode`:\n",
       "                \"closest\" when using this feature. Selection\n",
       "                events are sent accordingly as long as \"event\"\n",
       "                flag is set as well. When the \"event\" flag is\n",
       "                missing, `plotly_click` and `plotly_selected`\n",
       "                events are not fired.\n",
       "            coloraxis\n",
       "                :class:`plotly.graph_objects.layout.Coloraxis`\n",
       "                instance or dict with compatible properties\n",
       "            colorscale\n",
       "                :class:`plotly.graph_objects.layout.Colorscale`\n",
       "                instance or dict with compatible properties\n",
       "            colorway\n",
       "                Sets the default trace colors.\n",
       "            computed\n",
       "                Placeholder for exporting automargin-impacting\n",
       "                values namely `margin.t`, `margin.b`,\n",
       "                `margin.l` and `margin.r` in \"full-json\" mode.\n",
       "            datarevision\n",
       "                If provided, a changed value tells\n",
       "                `Plotly.react` that one or more data arrays has\n",
       "                changed. This way you can modify arrays in-\n",
       "                place rather than making a complete new copy\n",
       "                for an incremental change. If NOT provided,\n",
       "                `Plotly.react` assumes that data arrays are\n",
       "                being treated as immutable, thus any data array\n",
       "                with a different identity from its predecessor\n",
       "                contains new data.\n",
       "            dragmode\n",
       "                Determines the mode of drag interactions.\n",
       "                \"select\" and \"lasso\" apply only to scatter\n",
       "                traces with markers or text. \"orbit\" and\n",
       "                \"turntable\" apply only to 3D scenes.\n",
       "            editrevision\n",
       "                Controls persistence of user-driven changes in\n",
       "                `editable: true` configuration, other than\n",
       "                trace names and axis titles. Defaults to\n",
       "                `layout.uirevision`.\n",
       "            extendfunnelareacolors\n",
       "                If `true`, the funnelarea slice colors (whether\n",
       "                given by `funnelareacolorway` or inherited from\n",
       "                `colorway`) will be extended to three times its\n",
       "                original length by first repeating every color\n",
       "                20% lighter then each color 20% darker. This is\n",
       "                intended to reduce the likelihood of reusing\n",
       "                the same color when you have many slices, but\n",
       "                you can set `false` to disable. Colors provided\n",
       "                in the trace, using `marker.colors`, are never\n",
       "                extended.\n",
       "            extendiciclecolors\n",
       "                If `true`, the icicle slice colors (whether\n",
       "                given by `iciclecolorway` or inherited from\n",
       "                `colorway`) will be extended to three times its\n",
       "                original length by first repeating every color\n",
       "                20% lighter then each color 20% darker. This is\n",
       "                intended to reduce the likelihood of reusing\n",
       "                the same color when you have many slices, but\n",
       "                you can set `false` to disable. Colors provided\n",
       "                in the trace, using `marker.colors`, are never\n",
       "                extended.\n",
       "            extendpiecolors\n",
       "                If `true`, the pie slice colors (whether given\n",
       "                by `piecolorway` or inherited from `colorway`)\n",
       "                will be extended to three times its original\n",
       "                length by first repeating every color 20%\n",
       "                lighter then each color 20% darker. This is\n",
       "                intended to reduce the likelihood of reusing\n",
       "                the same color when you have many slices, but\n",
       "                you can set `false` to disable. Colors provided\n",
       "                in the trace, using `marker.colors`, are never\n",
       "                extended.\n",
       "            extendsunburstcolors\n",
       "                If `true`, the sunburst slice colors (whether\n",
       "                given by `sunburstcolorway` or inherited from\n",
       "                `colorway`) will be extended to three times its\n",
       "                original length by first repeating every color\n",
       "                20% lighter then each color 20% darker. This is\n",
       "                intended to reduce the likelihood of reusing\n",
       "                the same color when you have many slices, but\n",
       "                you can set `false` to disable. Colors provided\n",
       "                in the trace, using `marker.colors`, are never\n",
       "                extended.\n",
       "            extendtreemapcolors\n",
       "                If `true`, the treemap slice colors (whether\n",
       "                given by `treemapcolorway` or inherited from\n",
       "                `colorway`) will be extended to three times its\n",
       "                original length by first repeating every color\n",
       "                20% lighter then each color 20% darker. This is\n",
       "                intended to reduce the likelihood of reusing\n",
       "                the same color when you have many slices, but\n",
       "                you can set `false` to disable. Colors provided\n",
       "                in the trace, using `marker.colors`, are never\n",
       "                extended.\n",
       "            font\n",
       "                Sets the global font. Note that fonts used in\n",
       "                traces and other layout components inherit from\n",
       "                the global font.\n",
       "            funnelareacolorway\n",
       "                Sets the default funnelarea slice colors.\n",
       "                Defaults to the main `colorway` used for trace\n",
       "                colors. If you specify a new list here it can\n",
       "                still be extended with lighter and darker\n",
       "                colors, see `extendfunnelareacolors`.\n",
       "            funnelgap\n",
       "                Sets the gap (in plot fraction) between bars of\n",
       "                adjacent location coordinates.\n",
       "            funnelgroupgap\n",
       "                Sets the gap (in plot fraction) between bars of\n",
       "                the same location coordinate.\n",
       "            funnelmode\n",
       "                Determines how bars at the same location\n",
       "                coordinate are displayed on the graph. With\n",
       "                \"stack\", the bars are stacked on top of one\n",
       "                another With \"group\", the bars are plotted next\n",
       "                to one another centered around the shared\n",
       "                location. With \"overlay\", the bars are plotted\n",
       "                over one another, you might need to an\n",
       "                \"opacity\" to see multiple bars.\n",
       "            geo\n",
       "                :class:`plotly.graph_objects.layout.Geo`\n",
       "                instance or dict with compatible properties\n",
       "            grid\n",
       "                :class:`plotly.graph_objects.layout.Grid`\n",
       "                instance or dict with compatible properties\n",
       "            height\n",
       "                Sets the plot's height (in px).\n",
       "            hiddenlabels\n",
       "                hiddenlabels is the funnelarea & pie chart\n",
       "                analog of visible:'legendonly' but it can\n",
       "                contain many labels, and can simultaneously\n",
       "                hide slices from several pies/funnelarea charts\n",
       "            hiddenlabelssrc\n",
       "                Sets the source reference on Chart Studio Cloud\n",
       "                for  hiddenlabels .\n",
       "            hidesources\n",
       "                Determines whether or not a text link citing\n",
       "                the data source is placed at the bottom-right\n",
       "                cored of the figure. Has only an effect only on\n",
       "                graphs that have been generated via forked\n",
       "                graphs from the Chart Studio Cloud (at\n",
       "                https://chart-studio.plotly.com or on-premise).\n",
       "            hoverdistance\n",
       "                Sets the default distance (in pixels) to look\n",
       "                for data to add hover labels (-1 means no\n",
       "                cutoff, 0 means no looking for data). This is\n",
       "                only a real distance for hovering on point-like\n",
       "                objects, like scatter points. For area-like\n",
       "                objects (bars, scatter fills, etc) hovering is\n",
       "                on inside the area and off outside, but these\n",
       "                objects will not supersede hover on point-like\n",
       "                objects in case of conflict.\n",
       "            hoverlabel\n",
       "                :class:`plotly.graph_objects.layout.Hoverlabel`\n",
       "                instance or dict with compatible properties\n",
       "            hovermode\n",
       "                Determines the mode of hover interactions. If\n",
       "                \"closest\", a single hoverlabel will appear for\n",
       "                the \"closest\" point within the `hoverdistance`.\n",
       "                If \"x\" (or \"y\"), multiple hoverlabels will\n",
       "                appear for multiple points at the \"closest\" x-\n",
       "                (or y-) coordinate within the `hoverdistance`,\n",
       "                with the caveat that no more than one\n",
       "                hoverlabel will appear per trace. If *x\n",
       "                unified* (or *y unified*), a single hoverlabel\n",
       "                will appear multiple points at the closest x-\n",
       "                (or y-) coordinate within the `hoverdistance`\n",
       "                with the caveat that no more than one\n",
       "                hoverlabel will appear per trace. In this mode,\n",
       "                spikelines are enabled by default perpendicular\n",
       "                to the specified axis. If false, hover\n",
       "                interactions are disabled.\n",
       "            iciclecolorway\n",
       "                Sets the default icicle slice colors. Defaults\n",
       "                to the main `colorway` used for trace colors.\n",
       "                If you specify a new list here it can still be\n",
       "                extended with lighter and darker colors, see\n",
       "                `extendiciclecolors`.\n",
       "            images\n",
       "                A tuple of\n",
       "                :class:`plotly.graph_objects.layout.Image`\n",
       "                instances or dicts with compatible properties\n",
       "            imagedefaults\n",
       "                When used in a template (as\n",
       "                layout.template.layout.imagedefaults), sets the\n",
       "                default property values to use for elements of\n",
       "                layout.images\n",
       "            legend\n",
       "                :class:`plotly.graph_objects.layout.Legend`\n",
       "                instance or dict with compatible properties\n",
       "            mapbox\n",
       "                :class:`plotly.graph_objects.layout.Mapbox`\n",
       "                instance or dict with compatible properties\n",
       "            margin\n",
       "                :class:`plotly.graph_objects.layout.Margin`\n",
       "                instance or dict with compatible properties\n",
       "            meta\n",
       "                Assigns extra meta information that can be used\n",
       "                in various `text` attributes. Attributes such\n",
       "                as the graph, axis and colorbar `title.text`,\n",
       "                annotation `text` `trace.name` in legend items,\n",
       "                `rangeselector`, `updatemenus` and `sliders`\n",
       "                `label` text all support `meta`. One can access\n",
       "                `meta` fields using template strings:\n",
       "                `%{meta[i]}` where `i` is the index of the\n",
       "                `meta` item in question. `meta` can also be an\n",
       "                object for example `{key: value}` which can be\n",
       "                accessed %{meta[key]}.\n",
       "            metasrc\n",
       "                Sets the source reference on Chart Studio Cloud\n",
       "                for  meta .\n",
       "            modebar\n",
       "                :class:`plotly.graph_objects.layout.Modebar`\n",
       "                instance or dict with compatible properties\n",
       "            newshape\n",
       "                :class:`plotly.graph_objects.layout.Newshape`\n",
       "                instance or dict with compatible properties\n",
       "            paper_bgcolor\n",
       "                Sets the background color of the paper where\n",
       "                the graph is drawn.\n",
       "            piecolorway\n",
       "                Sets the default pie slice colors. Defaults to\n",
       "                the main `colorway` used for trace colors. If\n",
       "                you specify a new list here it can still be\n",
       "                extended with lighter and darker colors, see\n",
       "                `extendpiecolors`.\n",
       "            plot_bgcolor\n",
       "                Sets the background color of the plotting area\n",
       "                in-between x and y axes.\n",
       "            polar\n",
       "                :class:`plotly.graph_objects.layout.Polar`\n",
       "                instance or dict with compatible properties\n",
       "            scene\n",
       "                :class:`plotly.graph_objects.layout.Scene`\n",
       "                instance or dict with compatible properties\n",
       "            selectdirection\n",
       "                When `dragmode` is set to \"select\", this limits\n",
       "                the selection of the drag to horizontal,\n",
       "                vertical or diagonal. \"h\" only allows\n",
       "                horizontal selection, \"v\" only vertical, \"d\"\n",
       "                only diagonal and \"any\" sets no limit.\n",
       "            selectionrevision\n",
       "                Controls persistence of user-driven changes in\n",
       "                selected points from all traces.\n",
       "            separators\n",
       "                Sets the decimal and thousand separators. For\n",
       "                example, *. * puts a '.' before decimals and a\n",
       "                space between thousands. In English locales,\n",
       "                dflt is \".,\" but other locales may alter this\n",
       "                default.\n",
       "            shapes\n",
       "                A tuple of\n",
       "                :class:`plotly.graph_objects.layout.Shape`\n",
       "                instances or dicts with compatible properties\n",
       "            shapedefaults\n",
       "                When used in a template (as\n",
       "                layout.template.layout.shapedefaults), sets the\n",
       "                default property values to use for elements of\n",
       "                layout.shapes\n",
       "            showlegend\n",
       "                Determines whether or not a legend is drawn.\n",
       "                Default is `true` if there is a trace to show\n",
       "                and any of these: a) Two or more traces would\n",
       "                by default be shown in the legend. b) One pie\n",
       "                trace is shown in the legend. c) One trace is\n",
       "                explicitly given with `showlegend: true`.\n",
       "            sliders\n",
       "                A tuple of\n",
       "                :class:`plotly.graph_objects.layout.Slider`\n",
       "                instances or dicts with compatible properties\n",
       "            sliderdefaults\n",
       "                When used in a template (as\n",
       "                layout.template.layout.sliderdefaults), sets\n",
       "                the default property values to use for elements\n",
       "                of layout.sliders\n",
       "            spikedistance\n",
       "                Sets the default distance (in pixels) to look\n",
       "                for data to draw spikelines to (-1 means no\n",
       "                cutoff, 0 means no looking for data). As with\n",
       "                hoverdistance, distance does not apply to area-\n",
       "                like objects. In addition, some objects can be\n",
       "                hovered on but will not generate spikelines,\n",
       "                such as scatter fills.\n",
       "            sunburstcolorway\n",
       "                Sets the default sunburst slice colors.\n",
       "                Defaults to the main `colorway` used for trace\n",
       "                colors. If you specify a new list here it can\n",
       "                still be extended with lighter and darker\n",
       "                colors, see `extendsunburstcolors`.\n",
       "            template\n",
       "                Default attributes to be applied to the plot.\n",
       "                This should be a dict with format: `{'layout':\n",
       "                layoutTemplate, 'data': {trace_type:\n",
       "                [traceTemplate, ...], ...}}` where\n",
       "                `layoutTemplate` is a dict matching the\n",
       "                structure of `figure.layout` and\n",
       "                `traceTemplate` is a dict matching the\n",
       "                structure of the trace with type `trace_type`\n",
       "                (e.g. 'scatter'). Alternatively, this may be\n",
       "                specified as an instance of\n",
       "                plotly.graph_objs.layout.Template.  Trace\n",
       "                templates are applied cyclically to traces of\n",
       "                each type. Container arrays (eg `annotations`)\n",
       "                have special handling: An object ending in\n",
       "                `defaults` (eg `annotationdefaults`) is applied\n",
       "                to each array item. But if an item has a\n",
       "                `templateitemname` key we look in the template\n",
       "                array for an item with matching `name` and\n",
       "                apply that instead. If no matching `name` is\n",
       "                found we mark the item invisible. Any named\n",
       "                template item not referenced is appended to the\n",
       "                end of the array, so this can be used to add a\n",
       "                watermark annotation or a logo image, for\n",
       "                example. To omit one of these items on the\n",
       "                plot, make an item with matching\n",
       "                `templateitemname` and `visible: false`.\n",
       "            ternary\n",
       "                :class:`plotly.graph_objects.layout.Ternary`\n",
       "                instance or dict with compatible properties\n",
       "            title\n",
       "                :class:`plotly.graph_objects.layout.Title`\n",
       "                instance or dict with compatible properties\n",
       "            titlefont\n",
       "                Deprecated: Please use layout.title.font\n",
       "                instead. Sets the title font. Note that the\n",
       "                title's font used to be customized by the now\n",
       "                deprecated `titlefont` attribute.\n",
       "            transition\n",
       "                Sets transition options used during\n",
       "                Plotly.react updates.\n",
       "            treemapcolorway\n",
       "                Sets the default treemap slice colors. Defaults\n",
       "                to the main `colorway` used for trace colors.\n",
       "                If you specify a new list here it can still be\n",
       "                extended with lighter and darker colors, see\n",
       "                `extendtreemapcolors`.\n",
       "            uirevision\n",
       "                Used to allow user interactions with the plot\n",
       "                to persist after `Plotly.react` calls that are\n",
       "                unaware of these interactions. If `uirevision`\n",
       "                is omitted, or if it is given and it changed\n",
       "                from the previous `Plotly.react` call, the\n",
       "                exact new figure is used. If `uirevision` is\n",
       "                truthy and did NOT change, any attribute that\n",
       "                has been affected by user interactions and did\n",
       "                not receive a different value in the new figure\n",
       "                will keep the interaction value.\n",
       "                `layout.uirevision` attribute serves as the\n",
       "                default for `uirevision` attributes in various\n",
       "                sub-containers. For finer control you can set\n",
       "                these sub-attributes directly. For example, if\n",
       "                your app separately controls the data on the x\n",
       "                and y axes you might set\n",
       "                `xaxis.uirevision=*time*` and\n",
       "                `yaxis.uirevision=*cost*`. Then if only the y\n",
       "                data is changed, you can update\n",
       "                `yaxis.uirevision=*quantity*` and the y axis\n",
       "                range will reset but the x axis range will\n",
       "                retain any user-driven zoom.\n",
       "            uniformtext\n",
       "                :class:`plotly.graph_objects.layout.Uniformtext\n",
       "                ` instance or dict with compatible properties\n",
       "            updatemenus\n",
       "                A tuple of\n",
       "                :class:`plotly.graph_objects.layout.Updatemenu`\n",
       "                instances or dicts with compatible properties\n",
       "            updatemenudefaults\n",
       "                When used in a template (as\n",
       "                layout.template.layout.updatemenudefaults),\n",
       "                sets the default property values to use for\n",
       "                elements of layout.updatemenus\n",
       "            violingap\n",
       "                Sets the gap (in plot fraction) between violins\n",
       "                of adjacent location coordinates. Has no effect\n",
       "                on traces that have \"width\" set.\n",
       "            violingroupgap\n",
       "                Sets the gap (in plot fraction) between violins\n",
       "                of the same location coordinate. Has no effect\n",
       "                on traces that have \"width\" set.\n",
       "            violinmode\n",
       "                Determines how violins at the same location\n",
       "                coordinate are displayed on the graph. If\n",
       "                \"group\", the violins are plotted next to one\n",
       "                another centered around the shared location. If\n",
       "                \"overlay\", the violins are plotted over one\n",
       "                another, you might need to set \"opacity\" to see\n",
       "                them multiple violins. Has no effect on traces\n",
       "                that have \"width\" set.\n",
       "            waterfallgap\n",
       "                Sets the gap (in plot fraction) between bars of\n",
       "                adjacent location coordinates.\n",
       "            waterfallgroupgap\n",
       "                Sets the gap (in plot fraction) between bars of\n",
       "                the same location coordinate.\n",
       "            waterfallmode\n",
       "                Determines how bars at the same location\n",
       "                coordinate are displayed on the graph. With\n",
       "                \"group\", the bars are plotted next to one\n",
       "                another centered around the shared location.\n",
       "                With \"overlay\", the bars are plotted over one\n",
       "                another, you might need to an \"opacity\" to see\n",
       "                multiple bars.\n",
       "            width\n",
       "                Sets the plot's width (in px).\n",
       "            xaxis\n",
       "                :class:`plotly.graph_objects.layout.XAxis`\n",
       "                instance or dict with compatible properties\n",
       "            yaxis\n",
       "                :class:`plotly.graph_objects.layout.YAxis`\n",
       "                instance or dict with compatible properties\n",
       "\n",
       "frames\n",
       "    The 'frames' property is a tuple of instances of\n",
       "    Frame that may be specified as:\n",
       "      - A list or tuple of instances of plotly.graph_objs.Frame\n",
       "      - A list or tuple of dicts of string/value properties that\n",
       "        will be passed to the Frame constructor\n",
       "\n",
       "        Supported dict properties:\n",
       "            \n",
       "            baseframe\n",
       "                The name of the frame into which this frame's\n",
       "                properties are merged before applying. This is\n",
       "                used to unify properties and avoid needing to\n",
       "                specify the same values for the same properties\n",
       "                in multiple frames.\n",
       "            data\n",
       "                A list of traces this frame modifies. The\n",
       "                format is identical to the normal trace\n",
       "                definition.\n",
       "            group\n",
       "                An identifier that specifies the group to which\n",
       "                the frame belongs, used by animate to select a\n",
       "                subset of frames.\n",
       "            layout\n",
       "                Layout properties which this frame modifies.\n",
       "                The format is identical to the normal layout\n",
       "                definition.\n",
       "            name\n",
       "                A label by which to identify the frame\n",
       "            traces\n",
       "                A list of trace indices that identify the\n",
       "                respective traces in the data attribute\n",
       "\n",
       "skip_invalid: bool\n",
       "    If True, invalid properties in the figure specification will be\n",
       "    skipped silently. If False (default) invalid properties in the\n",
       "    figure specification will result in a ValueError\n",
       "\n",
       "Raises\n",
       "------\n",
       "ValueError\n",
       "    if a property in the specification of data, layout, or frames\n",
       "    is invalid AND skip_invalid is False\n",
       "\u001b[0;31mFile:\u001b[0m           /opt/conda/lib/python3.8/site-packages/plotly/graph_objs/_figure.py\n",
       "\u001b[0;31mType:\u001b[0m           type\n",
       "\u001b[0;31mSubclasses:\u001b[0m     \n"
      ]
     },
     "metadata": {},
     "output_type": "display_data"
    }
   ],
   "source": [
    "go.Figure?"
   ]
  },
  {
   "cell_type": "code",
   "execution_count": null,
   "metadata": {},
   "outputs": [],
   "source": [
    ".Scatter"
   ]
  },
  {
   "cell_type": "code",
   "execution_count": 147,
   "metadata": {},
   "outputs": [
    {
     "data": {
      "text/html": [
       "<iframe\n",
       "    scrolling=\"no\"\n",
       "    width=\"100%\"\n",
       "    height=\"545px\"\n",
       "    src=\"iframe_figures/figure_147.html\"\n",
       "    frameborder=\"0\"\n",
       "    allowfullscreen\n",
       "></iframe>\n"
      ]
     },
     "metadata": {},
     "output_type": "display_data"
    }
   ],
   "source": [
    "# import DBSCAN from sklearn and numpy\n",
    "from sklearn.cluster import DBSCAN\n",
    "import numpy as np\n",
    "\n",
    "EPS=0.2\n",
    "MIN_SAMPLES=100\n",
    "\n",
    "# Instanciate DBSCAN \n",
    "db = DBSCAN(\n",
    "    eps=EPS, \n",
    "    min_samples=MIN_SAMPLES, \n",
    "    metric=\"manhattan\", \n",
    "    algorithm=\"brute\"\n",
    ")\n",
    "\n",
    "db.fit(X)\n",
    "\n",
    "nb_clusters = len(np.unique(db.labels_))\n",
    "\n",
    "\n",
    "TITLE =(\"v1 - eps={} - min_samples={} - {} clusters created\".format(EPS,MIN_SAMPLES,nb_clusters))\n",
    "\n",
    "# Visualize with plotly \n",
    "## Import go to build our own figure\n",
    "\n",
    "import plotly.graph_objects as go\n",
    "\n",
    "fig = go.Figure()\n",
    "fig.update_layout(title=TITLE)\n",
    "    \n",
    "# Loop through each label for our cluster\n",
    "for i in np.unique(db.labels_):\n",
    "    label = X[db.labels_ == i]\n",
    "    fig.add_trace(go.Scatter(x=label[:, 0], y=label[:, 1], mode=\"markers\", name=\"Cluster {}\".format(i)))\n",
    "\n",
    "fig.show(renderer = \"iframe_connected\")"
   ]
  },
  {
   "cell_type": "code",
   "execution_count": 132,
   "metadata": {},
   "outputs": [
    {
     "data": {
      "text/plain": [
       "'v1 - eps=0.2 - min_samples=100 - 7 clutsers created'"
      ]
     },
     "execution_count": 132,
     "metadata": {},
     "output_type": "execute_result"
    }
   ],
   "source": []
  },
  {
   "cell_type": "code",
   "execution_count": 94,
   "metadata": {},
   "outputs": [
    {
     "data": {
      "text/html": [
       "<iframe\n",
       "    scrolling=\"no\"\n",
       "    width=\"520px\"\n",
       "    height=\"520\"\n",
       "    src=\"iframe_figures/figure_94.html\"\n",
       "    frameborder=\"0\"\n",
       "    allowfullscreen\n",
       "></iframe>\n"
      ]
     },
     "metadata": {},
     "output_type": "display_data"
    }
   ],
   "source": [
    "df_140430_2[\"cluster\"] = db.labels_\n",
    "\n",
    "fig = px.scatter_mapbox(\n",
    "        df_140430_2[df_140430_2.cluster != -1], \n",
    "        lat=\"Lat\", \n",
    "        lon=\"Lon\",\n",
    "        color=\"cluster\",\n",
    "        mapbox_style=\"carto-positron\",\n",
    "    zoom=9,\n",
    "    width=500,\n",
    "    height=500\n",
    ")\n",
    "\n",
    "fig.show()\n",
    "\n"
   ]
  },
  {
   "cell_type": "code",
   "execution_count": 148,
   "metadata": {},
   "outputs": [
    {
     "name": "stdout",
     "output_type": "stream",
     "text": [
      "done !\n"
     ]
    }
   ],
   "source": [
    "EPS2=0.2\n",
    "MIN_SAMPLES2=25\n",
    "\n",
    "db2 = DBSCAN(\n",
    "    eps=EPS2, \n",
    "    min_samples=MIN_SAMPLES2, \n",
    "    metric=\"manhattan\", \n",
    "    algorithm=\"brute\"\n",
    ")\n",
    "\n",
    "\n",
    "db2.fit(X)\n",
    "print(\"done !\")\n",
    "\n",
    "TITLE =(\"v2 - eps={} - min_samples={} - {} clusters created\".format(EPS2,MIN_SAMPLES2,nb_clusters))\n",
    "\n",
    "\n"
   ]
  },
  {
   "cell_type": "code",
   "execution_count": 149,
   "metadata": {},
   "outputs": [
    {
     "data": {
      "text/html": [
       "<iframe\n",
       "    scrolling=\"no\"\n",
       "    width=\"100%\"\n",
       "    height=\"545px\"\n",
       "    src=\"iframe_figures/figure_149.html\"\n",
       "    frameborder=\"0\"\n",
       "    allowfullscreen\n",
       "></iframe>\n"
      ]
     },
     "metadata": {},
     "output_type": "display_data"
    }
   ],
   "source": [
    "fig2 = go.Figure()\n",
    "fig2.update_layout(title=TITLE)\n",
    "\n",
    "# Loop through each label for our cluster\n",
    "for i in np.unique(db2.labels_):\n",
    "    label2 = X[db2.labels_ == i]\n",
    "    fig2.add_trace(go.Scatter(x=label2[:, 0], y=label2[:, 1], mode=\"markers\", name=\"Cluster {}\".format(i)))\n",
    "\n",
    "fig2.show(renderer = \"iframe\")"
   ]
  },
  {
   "cell_type": "code",
   "execution_count": 92,
   "metadata": {},
   "outputs": [
    {
     "data": {
      "text/html": [
       "<iframe\n",
       "    scrolling=\"no\"\n",
       "    width=\"520px\"\n",
       "    height=\"520\"\n",
       "    src=\"iframe_figures/figure_92.html\"\n",
       "    frameborder=\"0\"\n",
       "    allowfullscreen\n",
       "></iframe>\n"
      ]
     },
     "metadata": {},
     "output_type": "display_data"
    }
   ],
   "source": [
    "df_140430_2[\"cluster_v2\"] = db2.labels_\n",
    "\n",
    "fig = px.scatter_mapbox(\n",
    "        df_140430_2[df_140430_2.cluster_v2 != -1], \n",
    "        lat=\"Lat\", \n",
    "        lon=\"Lon\",\n",
    "        color=\"cluster_v2\",\n",
    "        mapbox_style=\"carto-positron\",\n",
    "        zoom=8,\n",
    "        width=500,\n",
    "        height=500\n",
    ")\n",
    "\n",
    "fig.show()"
   ]
  },
  {
   "cell_type": "code",
   "execution_count": 150,
   "metadata": {},
   "outputs": [
    {
     "name": "stdout",
     "output_type": "stream",
     "text": [
      "done !\n"
     ]
    }
   ],
   "source": [
    "EPS3=0.1\n",
    "MIN_SAMPLES3=100\n",
    "\n",
    "db3 = DBSCAN(\n",
    "    eps=EPS3, \n",
    "    min_samples=MIN_SAMPLES3, \n",
    "    metric=\"manhattan\", \n",
    "    algorithm=\"brute\"\n",
    ")\n",
    "db3.fit(X)\n",
    "print(\"done !\")\n",
    "\n",
    "TITLE =(\"v3 - eps={} - min_samples={} - {} clusters created\".format(EPS3,MIN_SAMPLES3,nb_clusters))"
   ]
  },
  {
   "cell_type": "code",
   "execution_count": 151,
   "metadata": {},
   "outputs": [
    {
     "data": {
      "text/html": [
       "<iframe\n",
       "    scrolling=\"no\"\n",
       "    width=\"100%\"\n",
       "    height=\"545px\"\n",
       "    src=\"iframe_figures/figure_151.html\"\n",
       "    frameborder=\"0\"\n",
       "    allowfullscreen\n",
       "></iframe>\n"
      ]
     },
     "metadata": {},
     "output_type": "display_data"
    },
    {
     "name": "stdout",
     "output_type": "stream",
     "text": [
      "fig3 done !\n"
     ]
    }
   ],
   "source": [
    "fig3 = go.Figure()\n",
    "fig3.update_layout(title=TITLE)\n",
    "\n",
    "# Loop through each label for our cluster\n",
    "for i in np.unique(db3.labels_):\n",
    "    label3 = X[db3.labels_ == i]\n",
    "    fig3.add_trace(go.Scatter(x=label3[:, 0], y=label3[:, 1], mode=\"markers\", name=\"Cluster {}\".format(i)))\n",
    "\n",
    "fig3.show(renderer = \"iframe\")\n",
    "print('fig3 done !')\n",
    "\n",
    "df_140430_2[\"cluster_v3\"] = db3.labels_\n",
    "\n"
   ]
  },
  {
   "cell_type": "code",
   "execution_count": 111,
   "metadata": {},
   "outputs": [
    {
     "data": {
      "text/plain": [
       "numpy.ndarray"
      ]
     },
     "execution_count": 111,
     "metadata": {},
     "output_type": "execute_result"
    }
   ],
   "source": [
    "type( db3.labels_)"
   ]
  },
  {
   "cell_type": "code",
   "execution_count": 98,
   "metadata": {},
   "outputs": [
    {
     "data": {
      "text/html": [
       "<iframe\n",
       "    scrolling=\"no\"\n",
       "    width=\"520px\"\n",
       "    height=\"520\"\n",
       "    src=\"iframe_figures/figure_98.html\"\n",
       "    frameborder=\"0\"\n",
       "    allowfullscreen\n",
       "></iframe>\n"
      ]
     },
     "metadata": {},
     "output_type": "display_data"
    }
   ],
   "source": [
    "fig3_map = px.scatter_mapbox(\n",
    "        df_140430_2[df_140430_2.cluster_v3 != -1], \n",
    "        lat=\"Lat\", \n",
    "        lon=\"Lon\",\n",
    "        color=\"cluster_v3\",\n",
    "        mapbox_style=\"carto-positron\",\n",
    "        zoom = 8,\n",
    "        width=500,\n",
    "        height=500\n",
    ")\n",
    "\n",
    "fig3_map.show()"
   ]
  },
  {
   "cell_type": "code",
   "execution_count": 152,
   "metadata": {},
   "outputs": [
    {
     "name": "stdout",
     "output_type": "stream",
     "text": [
      "done !\n"
     ]
    },
    {
     "data": {
      "text/html": [
       "<iframe\n",
       "    scrolling=\"no\"\n",
       "    width=\"100%\"\n",
       "    height=\"545px\"\n",
       "    src=\"iframe_figures/figure_152.html\"\n",
       "    frameborder=\"0\"\n",
       "    allowfullscreen\n",
       "></iframe>\n"
      ]
     },
     "metadata": {},
     "output_type": "display_data"
    }
   ],
   "source": [
    "EPS4=0.1\n",
    "MIN_SAMPLES4 = 4\n",
    "\n",
    "db4 = DBSCAN(\n",
    "    eps=EPS4, \n",
    "    min_samples=MIN_SAMPLES4, \n",
    "    metric=\"manhattan\", \n",
    "    algorithm=\"brute\"\n",
    ")\n",
    "db4.fit(X)\n",
    "print(\"done !\")\n",
    "\n",
    "TITLE =(\"v4 - eps={} - min_samples={} - {} clusters created\".format(EPS4,MIN_SAMPLES4,nb_clusters))\n",
    "\n",
    "fig4 = go.Figure()\n",
    "fig4.update_layout(title=TITLE)\n",
    "\n",
    "# Loop through each label for our cluster\n",
    "for i in np.unique(db4.labels_):\n",
    "    label4 = X[db4.labels_ == i]\n",
    "    fig4.add_trace(\n",
    "        go.Scatter(x=label4[:, 0], y=label4[:, 1], mode=\"markers\", name=\"Cluster {}\".format(i)))\n",
    "\n",
    "fig4.show(renderer = \"iframe\")"
   ]
  },
  {
   "cell_type": "code",
   "execution_count": 118,
   "metadata": {},
   "outputs": [
    {
     "data": {
      "text/html": [
       "<iframe\n",
       "    scrolling=\"no\"\n",
       "    width=\"720px\"\n",
       "    height=\"720\"\n",
       "    src=\"iframe_figures/figure_118.html\"\n",
       "    frameborder=\"0\"\n",
       "    allowfullscreen\n",
       "></iframe>\n"
      ]
     },
     "metadata": {},
     "output_type": "display_data"
    }
   ],
   "source": [
    "df_140430_2[\"cluster_v4\"] = db4.labels_\n",
    "\n",
    "fig4_map = px.scatter_mapbox(\n",
    "        df_140430_2[df_140430_2.cluster_v4 != -1], \n",
    "        lat=\"Lat\", \n",
    "        lon=\"Lon\",\n",
    "        color=\"cluster_v4\",\n",
    "        mapbox_style=\"carto-positron\",\n",
    "        zoom = 10,\n",
    "        width=700,\n",
    "        height=700\n",
    ")\n",
    "\n",
    "fig4_map.show()"
   ]
  }
 ],
 "metadata": {
  "kernelspec": {
   "display_name": "Python 3",
   "language": "python",
   "name": "python3"
  },
  "language_info": {
   "codemirror_mode": {
    "name": "ipython",
    "version": 3
   },
   "file_extension": ".py",
   "mimetype": "text/x-python",
   "name": "python",
   "nbconvert_exporter": "python",
   "pygments_lexer": "ipython3",
   "version": "3.8.6"
  }
 },
 "nbformat": 4,
 "nbformat_minor": 4
}
